{
  "nbformat": 4,
  "nbformat_minor": 0,
  "metadata": {
    "colab": {
      "provenance": [],
      "toc_visible": true,
      "include_colab_link": true
    },
    "kernelspec": {
      "name": "python3",
      "display_name": "Python 3"
    },
    "language_info": {
      "name": "python"
    }
  },
  "cells": [
    {
      "cell_type": "markdown",
      "metadata": {
        "id": "view-in-github",
        "colab_type": "text"
      },
      "source": [
        "<a href=\"https://colab.research.google.com/github/klausreitz/cohid/blob/main/Pipeline_Pandas_Dados.ipynb\" target=\"_parent\"><img src=\"https://colab.research.google.com/assets/colab-badge.svg\" alt=\"Open In Colab\"/></a>"
      ]
    },
    {
      "cell_type": "markdown",
      "source": [
        "#**Aula 1: Realizando as primeiras consultas**"
      ],
      "metadata": {
        "id": "3hrN90N32zY-"
      }
    },
    {
      "cell_type": "markdown",
      "source": [
        "##**Conhecendo os dados**"
      ],
      "metadata": {
        "id": "CWgiSZae20yp"
      }
    },
    {
      "cell_type": "code",
      "source": [
        "url = 'https://raw.githubusercontent.com/alura-cursos/llamaIndex_pandas_query/refs/heads/main/Dados/vendas.csv'"
      ],
      "metadata": {
        "id": "FBAAsKg7mIF3"
      },
      "execution_count": null,
      "outputs": []
    },
    {
      "cell_type": "code",
      "source": [
        "import pandas as pd"
      ],
      "metadata": {
        "id": "1Ro4zgocncu9"
      },
      "execution_count": null,
      "outputs": []
    },
    {
      "cell_type": "code",
      "source": [
        "df = pd.read_csv(url)"
      ],
      "metadata": {
        "id": "NT0B_UN2nhWY"
      },
      "execution_count": null,
      "outputs": []
    },
    {
      "cell_type": "code",
      "source": [
        "df.head()"
      ],
      "metadata": {
        "colab": {
          "base_uri": "https://localhost:8080/",
          "height": 313
        },
        "id": "awJoJpuZnoVX",
        "outputId": "c7884b98-b390-43ef-95a8-b754bebc5dd6"
      },
      "execution_count": null,
      "outputs": [
        {
          "output_type": "execute_result",
          "data": {
            "text/plain": [
              "     ID_compra filial       cidade tipo_cliente     genero       tipo_produto  \\\n",
              "0  750-67-8428      A  Santo André       Membro   Feminino     Saúde e Beleza   \n",
              "1  226-31-3081      C  São Caetano       Normal   Feminino        Eletrônicos   \n",
              "2  631-41-3108      A  Santo André       Normal  Masculino               Casa   \n",
              "3  123-19-1176      A  Santo André       Membro  Masculino     Saúde e Beleza   \n",
              "4  373-73-7910      A  Santo André       Normal  Masculino  Esportes e Viagem   \n",
              "\n",
              "   preco_unitario  quantidade  imposto_5%     total        data      hora  \\\n",
              "0           74.69           7     26.1415  548.9715  2024-01-05  13:08:00   \n",
              "1           15.28           5      3.8200   80.2200  2024-03-08  10:29:00   \n",
              "2           46.33           7     16.2155  340.5255  2024-03-03  13:23:00   \n",
              "3           58.22           8     23.2880  489.0480  2024-01-27  20:33:00   \n",
              "4           86.31           7     30.2085  634.3785  2024-02-08  10:37:00   \n",
              "\n",
              "     forma_pagamento  avaliacao  \n",
              "0   Carteira Digital        9.1  \n",
              "1           Dinheiro        9.6  \n",
              "2  Cartão de Crédito        7.4  \n",
              "3   Carteira Digital        8.4  \n",
              "4   Carteira Digital        5.3  "
            ],
            "text/html": [
              "\n",
              "  <div id=\"df-0055e5e4-2d1c-4c58-b865-8b76c4db76ec\" class=\"colab-df-container\">\n",
              "    <div>\n",
              "<style scoped>\n",
              "    .dataframe tbody tr th:only-of-type {\n",
              "        vertical-align: middle;\n",
              "    }\n",
              "\n",
              "    .dataframe tbody tr th {\n",
              "        vertical-align: top;\n",
              "    }\n",
              "\n",
              "    .dataframe thead th {\n",
              "        text-align: right;\n",
              "    }\n",
              "</style>\n",
              "<table border=\"1\" class=\"dataframe\">\n",
              "  <thead>\n",
              "    <tr style=\"text-align: right;\">\n",
              "      <th></th>\n",
              "      <th>ID_compra</th>\n",
              "      <th>filial</th>\n",
              "      <th>cidade</th>\n",
              "      <th>tipo_cliente</th>\n",
              "      <th>genero</th>\n",
              "      <th>tipo_produto</th>\n",
              "      <th>preco_unitario</th>\n",
              "      <th>quantidade</th>\n",
              "      <th>imposto_5%</th>\n",
              "      <th>total</th>\n",
              "      <th>data</th>\n",
              "      <th>hora</th>\n",
              "      <th>forma_pagamento</th>\n",
              "      <th>avaliacao</th>\n",
              "    </tr>\n",
              "  </thead>\n",
              "  <tbody>\n",
              "    <tr>\n",
              "      <th>0</th>\n",
              "      <td>750-67-8428</td>\n",
              "      <td>A</td>\n",
              "      <td>Santo André</td>\n",
              "      <td>Membro</td>\n",
              "      <td>Feminino</td>\n",
              "      <td>Saúde e Beleza</td>\n",
              "      <td>74.69</td>\n",
              "      <td>7</td>\n",
              "      <td>26.1415</td>\n",
              "      <td>548.9715</td>\n",
              "      <td>2024-01-05</td>\n",
              "      <td>13:08:00</td>\n",
              "      <td>Carteira Digital</td>\n",
              "      <td>9.1</td>\n",
              "    </tr>\n",
              "    <tr>\n",
              "      <th>1</th>\n",
              "      <td>226-31-3081</td>\n",
              "      <td>C</td>\n",
              "      <td>São Caetano</td>\n",
              "      <td>Normal</td>\n",
              "      <td>Feminino</td>\n",
              "      <td>Eletrônicos</td>\n",
              "      <td>15.28</td>\n",
              "      <td>5</td>\n",
              "      <td>3.8200</td>\n",
              "      <td>80.2200</td>\n",
              "      <td>2024-03-08</td>\n",
              "      <td>10:29:00</td>\n",
              "      <td>Dinheiro</td>\n",
              "      <td>9.6</td>\n",
              "    </tr>\n",
              "    <tr>\n",
              "      <th>2</th>\n",
              "      <td>631-41-3108</td>\n",
              "      <td>A</td>\n",
              "      <td>Santo André</td>\n",
              "      <td>Normal</td>\n",
              "      <td>Masculino</td>\n",
              "      <td>Casa</td>\n",
              "      <td>46.33</td>\n",
              "      <td>7</td>\n",
              "      <td>16.2155</td>\n",
              "      <td>340.5255</td>\n",
              "      <td>2024-03-03</td>\n",
              "      <td>13:23:00</td>\n",
              "      <td>Cartão de Crédito</td>\n",
              "      <td>7.4</td>\n",
              "    </tr>\n",
              "    <tr>\n",
              "      <th>3</th>\n",
              "      <td>123-19-1176</td>\n",
              "      <td>A</td>\n",
              "      <td>Santo André</td>\n",
              "      <td>Membro</td>\n",
              "      <td>Masculino</td>\n",
              "      <td>Saúde e Beleza</td>\n",
              "      <td>58.22</td>\n",
              "      <td>8</td>\n",
              "      <td>23.2880</td>\n",
              "      <td>489.0480</td>\n",
              "      <td>2024-01-27</td>\n",
              "      <td>20:33:00</td>\n",
              "      <td>Carteira Digital</td>\n",
              "      <td>8.4</td>\n",
              "    </tr>\n",
              "    <tr>\n",
              "      <th>4</th>\n",
              "      <td>373-73-7910</td>\n",
              "      <td>A</td>\n",
              "      <td>Santo André</td>\n",
              "      <td>Normal</td>\n",
              "      <td>Masculino</td>\n",
              "      <td>Esportes e Viagem</td>\n",
              "      <td>86.31</td>\n",
              "      <td>7</td>\n",
              "      <td>30.2085</td>\n",
              "      <td>634.3785</td>\n",
              "      <td>2024-02-08</td>\n",
              "      <td>10:37:00</td>\n",
              "      <td>Carteira Digital</td>\n",
              "      <td>5.3</td>\n",
              "    </tr>\n",
              "  </tbody>\n",
              "</table>\n",
              "</div>\n",
              "    <div class=\"colab-df-buttons\">\n",
              "\n",
              "  <div class=\"colab-df-container\">\n",
              "    <button class=\"colab-df-convert\" onclick=\"convertToInteractive('df-0055e5e4-2d1c-4c58-b865-8b76c4db76ec')\"\n",
              "            title=\"Convert this dataframe to an interactive table.\"\n",
              "            style=\"display:none;\">\n",
              "\n",
              "  <svg xmlns=\"http://www.w3.org/2000/svg\" height=\"24px\" viewBox=\"0 -960 960 960\">\n",
              "    <path d=\"M120-120v-720h720v720H120Zm60-500h600v-160H180v160Zm220 220h160v-160H400v160Zm0 220h160v-160H400v160ZM180-400h160v-160H180v160Zm440 0h160v-160H620v160ZM180-180h160v-160H180v160Zm440 0h160v-160H620v160Z\"/>\n",
              "  </svg>\n",
              "    </button>\n",
              "\n",
              "  <style>\n",
              "    .colab-df-container {\n",
              "      display:flex;\n",
              "      gap: 12px;\n",
              "    }\n",
              "\n",
              "    .colab-df-convert {\n",
              "      background-color: #E8F0FE;\n",
              "      border: none;\n",
              "      border-radius: 50%;\n",
              "      cursor: pointer;\n",
              "      display: none;\n",
              "      fill: #1967D2;\n",
              "      height: 32px;\n",
              "      padding: 0 0 0 0;\n",
              "      width: 32px;\n",
              "    }\n",
              "\n",
              "    .colab-df-convert:hover {\n",
              "      background-color: #E2EBFA;\n",
              "      box-shadow: 0px 1px 2px rgba(60, 64, 67, 0.3), 0px 1px 3px 1px rgba(60, 64, 67, 0.15);\n",
              "      fill: #174EA6;\n",
              "    }\n",
              "\n",
              "    .colab-df-buttons div {\n",
              "      margin-bottom: 4px;\n",
              "    }\n",
              "\n",
              "    [theme=dark] .colab-df-convert {\n",
              "      background-color: #3B4455;\n",
              "      fill: #D2E3FC;\n",
              "    }\n",
              "\n",
              "    [theme=dark] .colab-df-convert:hover {\n",
              "      background-color: #434B5C;\n",
              "      box-shadow: 0px 1px 3px 1px rgba(0, 0, 0, 0.15);\n",
              "      filter: drop-shadow(0px 1px 2px rgba(0, 0, 0, 0.3));\n",
              "      fill: #FFFFFF;\n",
              "    }\n",
              "  </style>\n",
              "\n",
              "    <script>\n",
              "      const buttonEl =\n",
              "        document.querySelector('#df-0055e5e4-2d1c-4c58-b865-8b76c4db76ec button.colab-df-convert');\n",
              "      buttonEl.style.display =\n",
              "        google.colab.kernel.accessAllowed ? 'block' : 'none';\n",
              "\n",
              "      async function convertToInteractive(key) {\n",
              "        const element = document.querySelector('#df-0055e5e4-2d1c-4c58-b865-8b76c4db76ec');\n",
              "        const dataTable =\n",
              "          await google.colab.kernel.invokeFunction('convertToInteractive',\n",
              "                                                    [key], {});\n",
              "        if (!dataTable) return;\n",
              "\n",
              "        const docLinkHtml = 'Like what you see? Visit the ' +\n",
              "          '<a target=\"_blank\" href=https://colab.research.google.com/notebooks/data_table.ipynb>data table notebook</a>'\n",
              "          + ' to learn more about interactive tables.';\n",
              "        element.innerHTML = '';\n",
              "        dataTable['output_type'] = 'display_data';\n",
              "        await google.colab.output.renderOutput(dataTable, element);\n",
              "        const docLink = document.createElement('div');\n",
              "        docLink.innerHTML = docLinkHtml;\n",
              "        element.appendChild(docLink);\n",
              "      }\n",
              "    </script>\n",
              "  </div>\n",
              "\n",
              "\n",
              "    <div id=\"df-6e2dde66-1f89-4d9c-b20d-ece0df937150\">\n",
              "      <button class=\"colab-df-quickchart\" onclick=\"quickchart('df-6e2dde66-1f89-4d9c-b20d-ece0df937150')\"\n",
              "                title=\"Suggest charts\"\n",
              "                style=\"display:none;\">\n",
              "\n",
              "<svg xmlns=\"http://www.w3.org/2000/svg\" height=\"24px\"viewBox=\"0 0 24 24\"\n",
              "     width=\"24px\">\n",
              "    <g>\n",
              "        <path d=\"M19 3H5c-1.1 0-2 .9-2 2v14c0 1.1.9 2 2 2h14c1.1 0 2-.9 2-2V5c0-1.1-.9-2-2-2zM9 17H7v-7h2v7zm4 0h-2V7h2v10zm4 0h-2v-4h2v4z\"/>\n",
              "    </g>\n",
              "</svg>\n",
              "      </button>\n",
              "\n",
              "<style>\n",
              "  .colab-df-quickchart {\n",
              "      --bg-color: #E8F0FE;\n",
              "      --fill-color: #1967D2;\n",
              "      --hover-bg-color: #E2EBFA;\n",
              "      --hover-fill-color: #174EA6;\n",
              "      --disabled-fill-color: #AAA;\n",
              "      --disabled-bg-color: #DDD;\n",
              "  }\n",
              "\n",
              "  [theme=dark] .colab-df-quickchart {\n",
              "      --bg-color: #3B4455;\n",
              "      --fill-color: #D2E3FC;\n",
              "      --hover-bg-color: #434B5C;\n",
              "      --hover-fill-color: #FFFFFF;\n",
              "      --disabled-bg-color: #3B4455;\n",
              "      --disabled-fill-color: #666;\n",
              "  }\n",
              "\n",
              "  .colab-df-quickchart {\n",
              "    background-color: var(--bg-color);\n",
              "    border: none;\n",
              "    border-radius: 50%;\n",
              "    cursor: pointer;\n",
              "    display: none;\n",
              "    fill: var(--fill-color);\n",
              "    height: 32px;\n",
              "    padding: 0;\n",
              "    width: 32px;\n",
              "  }\n",
              "\n",
              "  .colab-df-quickchart:hover {\n",
              "    background-color: var(--hover-bg-color);\n",
              "    box-shadow: 0 1px 2px rgba(60, 64, 67, 0.3), 0 1px 3px 1px rgba(60, 64, 67, 0.15);\n",
              "    fill: var(--button-hover-fill-color);\n",
              "  }\n",
              "\n",
              "  .colab-df-quickchart-complete:disabled,\n",
              "  .colab-df-quickchart-complete:disabled:hover {\n",
              "    background-color: var(--disabled-bg-color);\n",
              "    fill: var(--disabled-fill-color);\n",
              "    box-shadow: none;\n",
              "  }\n",
              "\n",
              "  .colab-df-spinner {\n",
              "    border: 2px solid var(--fill-color);\n",
              "    border-color: transparent;\n",
              "    border-bottom-color: var(--fill-color);\n",
              "    animation:\n",
              "      spin 1s steps(1) infinite;\n",
              "  }\n",
              "\n",
              "  @keyframes spin {\n",
              "    0% {\n",
              "      border-color: transparent;\n",
              "      border-bottom-color: var(--fill-color);\n",
              "      border-left-color: var(--fill-color);\n",
              "    }\n",
              "    20% {\n",
              "      border-color: transparent;\n",
              "      border-left-color: var(--fill-color);\n",
              "      border-top-color: var(--fill-color);\n",
              "    }\n",
              "    30% {\n",
              "      border-color: transparent;\n",
              "      border-left-color: var(--fill-color);\n",
              "      border-top-color: var(--fill-color);\n",
              "      border-right-color: var(--fill-color);\n",
              "    }\n",
              "    40% {\n",
              "      border-color: transparent;\n",
              "      border-right-color: var(--fill-color);\n",
              "      border-top-color: var(--fill-color);\n",
              "    }\n",
              "    60% {\n",
              "      border-color: transparent;\n",
              "      border-right-color: var(--fill-color);\n",
              "    }\n",
              "    80% {\n",
              "      border-color: transparent;\n",
              "      border-right-color: var(--fill-color);\n",
              "      border-bottom-color: var(--fill-color);\n",
              "    }\n",
              "    90% {\n",
              "      border-color: transparent;\n",
              "      border-bottom-color: var(--fill-color);\n",
              "    }\n",
              "  }\n",
              "</style>\n",
              "\n",
              "      <script>\n",
              "        async function quickchart(key) {\n",
              "          const quickchartButtonEl =\n",
              "            document.querySelector('#' + key + ' button');\n",
              "          quickchartButtonEl.disabled = true;  // To prevent multiple clicks.\n",
              "          quickchartButtonEl.classList.add('colab-df-spinner');\n",
              "          try {\n",
              "            const charts = await google.colab.kernel.invokeFunction(\n",
              "                'suggestCharts', [key], {});\n",
              "          } catch (error) {\n",
              "            console.error('Error during call to suggestCharts:', error);\n",
              "          }\n",
              "          quickchartButtonEl.classList.remove('colab-df-spinner');\n",
              "          quickchartButtonEl.classList.add('colab-df-quickchart-complete');\n",
              "        }\n",
              "        (() => {\n",
              "          let quickchartButtonEl =\n",
              "            document.querySelector('#df-6e2dde66-1f89-4d9c-b20d-ece0df937150 button');\n",
              "          quickchartButtonEl.style.display =\n",
              "            google.colab.kernel.accessAllowed ? 'block' : 'none';\n",
              "        })();\n",
              "      </script>\n",
              "    </div>\n",
              "\n",
              "    </div>\n",
              "  </div>\n"
            ],
            "application/vnd.google.colaboratory.intrinsic+json": {
              "type": "dataframe",
              "variable_name": "df",
              "summary": "{\n  \"name\": \"df\",\n  \"rows\": 1000,\n  \"fields\": [\n    {\n      \"column\": \"ID_compra\",\n      \"properties\": {\n        \"dtype\": \"string\",\n        \"num_unique_values\": 1000,\n        \"samples\": [\n          \"451-28-5717\",\n          \"137-63-5492\",\n          \"733-29-1227\"\n        ],\n        \"semantic_type\": \"\",\n        \"description\": \"\"\n      }\n    },\n    {\n      \"column\": \"filial\",\n      \"properties\": {\n        \"dtype\": \"category\",\n        \"num_unique_values\": 3,\n        \"samples\": [\n          \"A\",\n          \"C\",\n          \"B\"\n        ],\n        \"semantic_type\": \"\",\n        \"description\": \"\"\n      }\n    },\n    {\n      \"column\": \"cidade\",\n      \"properties\": {\n        \"dtype\": \"category\",\n        \"num_unique_values\": 3,\n        \"samples\": [\n          \"Santo Andr\\u00e9\",\n          \"S\\u00e3o Caetano\",\n          \"S\\u00e3o Bernardo do Campo\"\n        ],\n        \"semantic_type\": \"\",\n        \"description\": \"\"\n      }\n    },\n    {\n      \"column\": \"tipo_cliente\",\n      \"properties\": {\n        \"dtype\": \"category\",\n        \"num_unique_values\": 2,\n        \"samples\": [\n          \"Normal\",\n          \"Membro\"\n        ],\n        \"semantic_type\": \"\",\n        \"description\": \"\"\n      }\n    },\n    {\n      \"column\": \"genero\",\n      \"properties\": {\n        \"dtype\": \"category\",\n        \"num_unique_values\": 2,\n        \"samples\": [\n          \"Masculino\",\n          \"Feminino\"\n        ],\n        \"semantic_type\": \"\",\n        \"description\": \"\"\n      }\n    },\n    {\n      \"column\": \"tipo_produto\",\n      \"properties\": {\n        \"dtype\": \"category\",\n        \"num_unique_values\": 6,\n        \"samples\": [\n          \"Sa\\u00fade e Beleza\",\n          \"Eletr\\u00f4nicos\"\n        ],\n        \"semantic_type\": \"\",\n        \"description\": \"\"\n      }\n    },\n    {\n      \"column\": \"preco_unitario\",\n      \"properties\": {\n        \"dtype\": \"number\",\n        \"std\": 26.494628347919768,\n        \"min\": 10.08,\n        \"max\": 99.96,\n        \"num_unique_values\": 943,\n        \"samples\": [\n          12.45,\n          70.74\n        ],\n        \"semantic_type\": \"\",\n        \"description\": \"\"\n      }\n    },\n    {\n      \"column\": \"quantidade\",\n      \"properties\": {\n        \"dtype\": \"number\",\n        \"std\": 2,\n        \"min\": 1,\n        \"max\": 10,\n        \"num_unique_values\": 10,\n        \"samples\": [\n          1,\n          5\n        ],\n        \"semantic_type\": \"\",\n        \"description\": \"\"\n      }\n    },\n    {\n      \"column\": \"imposto_5%\",\n      \"properties\": {\n        \"dtype\": \"number\",\n        \"std\": 11.708825480998659,\n        \"min\": 0.5085,\n        \"max\": 49.65,\n        \"num_unique_values\": 990,\n        \"samples\": [\n          0.914,\n          2.348\n        ],\n        \"semantic_type\": \"\",\n        \"description\": \"\"\n      }\n    },\n    {\n      \"column\": \"total\",\n      \"properties\": {\n        \"dtype\": \"number\",\n        \"std\": 245.88533510097207,\n        \"min\": 10.6785,\n        \"max\": 1042.65,\n        \"num_unique_values\": 990,\n        \"samples\": [\n          19.194,\n          49.308\n        ],\n        \"semantic_type\": \"\",\n        \"description\": \"\"\n      }\n    },\n    {\n      \"column\": \"data\",\n      \"properties\": {\n        \"dtype\": \"object\",\n        \"num_unique_values\": 89,\n        \"samples\": [\n          \"2024-02-14\",\n          \"2024-01-26\"\n        ],\n        \"semantic_type\": \"\",\n        \"description\": \"\"\n      }\n    },\n    {\n      \"column\": \"hora\",\n      \"properties\": {\n        \"dtype\": \"object\",\n        \"num_unique_values\": 506,\n        \"samples\": [\n          \"10:13:00\",\n          \"11:21:00\"\n        ],\n        \"semantic_type\": \"\",\n        \"description\": \"\"\n      }\n    },\n    {\n      \"column\": \"forma_pagamento\",\n      \"properties\": {\n        \"dtype\": \"category\",\n        \"num_unique_values\": 3,\n        \"samples\": [\n          \"Carteira Digital\",\n          \"Dinheiro\"\n        ],\n        \"semantic_type\": \"\",\n        \"description\": \"\"\n      }\n    },\n    {\n      \"column\": \"avaliacao\",\n      \"properties\": {\n        \"dtype\": \"number\",\n        \"std\": 1.718580294379123,\n        \"min\": 4.0,\n        \"max\": 10.0,\n        \"num_unique_values\": 61,\n        \"samples\": [\n          9.1,\n          4.1\n        ],\n        \"semantic_type\": \"\",\n        \"description\": \"\"\n      }\n    }\n  ]\n}"
            }
          },
          "metadata": {},
          "execution_count": 4
        }
      ]
    },
    {
      "cell_type": "code",
      "source": [
        "df.info()"
      ],
      "metadata": {
        "colab": {
          "base_uri": "https://localhost:8080/"
        },
        "id": "kfi1xbiwnrW6",
        "outputId": "f0515fa3-7681-4cd0-aecf-e470a5a4e281"
      },
      "execution_count": null,
      "outputs": [
        {
          "output_type": "stream",
          "name": "stdout",
          "text": [
            "<class 'pandas.core.frame.DataFrame'>\n",
            "RangeIndex: 1000 entries, 0 to 999\n",
            "Data columns (total 14 columns):\n",
            " #   Column           Non-Null Count  Dtype  \n",
            "---  ------           --------------  -----  \n",
            " 0   ID_compra        1000 non-null   object \n",
            " 1   filial           1000 non-null   object \n",
            " 2   cidade           1000 non-null   object \n",
            " 3   tipo_cliente     1000 non-null   object \n",
            " 4   genero           1000 non-null   object \n",
            " 5   tipo_produto     1000 non-null   object \n",
            " 6   preco_unitario   1000 non-null   float64\n",
            " 7   quantidade       1000 non-null   int64  \n",
            " 8   imposto_5%       1000 non-null   float64\n",
            " 9   total            1000 non-null   float64\n",
            " 10  data             1000 non-null   object \n",
            " 11  hora             1000 non-null   object \n",
            " 12  forma_pagamento  1000 non-null   object \n",
            " 13  avaliacao        1000 non-null   float64\n",
            "dtypes: float64(4), int64(1), object(9)\n",
            "memory usage: 109.5+ KB\n"
          ]
        }
      ]
    },
    {
      "cell_type": "code",
      "source": [
        "df.duplicated().sum()"
      ],
      "metadata": {
        "colab": {
          "base_uri": "https://localhost:8080/"
        },
        "id": "YEIaWn4VoFdz",
        "outputId": "df2634e9-8d4d-43c5-d72b-4066193ff3cb"
      },
      "execution_count": null,
      "outputs": [
        {
          "output_type": "execute_result",
          "data": {
            "text/plain": [
              "np.int64(0)"
            ]
          },
          "metadata": {},
          "execution_count": 6
        }
      ]
    },
    {
      "cell_type": "markdown",
      "source": [
        "##**Definindo a LLM e configurando a Chave de API**"
      ],
      "metadata": {
        "id": "s47hemh325_Q"
      }
    },
    {
      "cell_type": "code",
      "source": [
        "!pip install llama-index llama-index-experimental -q"
      ],
      "metadata": {
        "id": "GfkLEzQjo6en"
      },
      "execution_count": null,
      "outputs": []
    },
    {
      "cell_type": "code",
      "source": [
        "from google.colab import userdata\n",
        "key = userdata.get('GROQ_API_KEY')"
      ],
      "metadata": {
        "id": "g2RuQGJ9s0eM"
      },
      "execution_count": null,
      "outputs": []
    },
    {
      "cell_type": "code",
      "source": [
        "!pip install llama-index-llms-groq -q"
      ],
      "metadata": {
        "id": "RMndtzCKt29L"
      },
      "execution_count": null,
      "outputs": []
    },
    {
      "cell_type": "code",
      "source": [
        "from llama_index.core import Settings\n",
        "from llama_index.llms.groq import Groq\n",
        "\n",
        "Settings.llm = Groq(model='llama-3.3-70b-versatile', api_key=key)"
      ],
      "metadata": {
        "id": "ybCBkwFduMQ4"
      },
      "execution_count": null,
      "outputs": []
    },
    {
      "cell_type": "markdown",
      "source": [
        "##**Gerando consultas com PandasQueryEngine**"
      ],
      "metadata": {
        "id": "yrVj0xIy2-wy"
      }
    },
    {
      "cell_type": "code",
      "source": [
        "from llama_index.experimental.query_engine import PandasQueryEngine"
      ],
      "metadata": {
        "id": "0MzIEvruvtUS"
      },
      "execution_count": null,
      "outputs": []
    },
    {
      "cell_type": "code",
      "source": [
        "query_engine = PandasQueryEngine(df=df, verbose=True)"
      ],
      "metadata": {
        "id": "mR-m6aUuusie"
      },
      "execution_count": null,
      "outputs": []
    },
    {
      "cell_type": "code",
      "source": [
        "response = query_engine.query('Qual é a forma de pagamento mais utilizada pelos clientes?')"
      ],
      "metadata": {
        "colab": {
          "base_uri": "https://localhost:8080/"
        },
        "id": "nRsu0PRIv4Bo",
        "outputId": "8743c35b-adde-4bb4-f6af-dde1491e2f83"
      },
      "execution_count": null,
      "outputs": [
        {
          "output_type": "stream",
          "name": "stdout",
          "text": [
            "> Pandas Instructions:\n",
            "```\n",
            "df['forma_pagamento'].mode()[0]\n",
            "```\n",
            "> Pandas Output: Carteira Digital\n"
          ]
        }
      ]
    },
    {
      "cell_type": "code",
      "source": [
        "df.forma_pagamento.value_counts()"
      ],
      "metadata": {
        "colab": {
          "base_uri": "https://localhost:8080/",
          "height": 209
        },
        "id": "eaHrqDA1wRIc",
        "outputId": "76a4a110-0fbd-4969-8698-543b66d3346f"
      },
      "execution_count": null,
      "outputs": [
        {
          "output_type": "execute_result",
          "data": {
            "text/plain": [
              "forma_pagamento\n",
              "Carteira Digital     345\n",
              "Dinheiro             344\n",
              "Cartão de Crédito    311\n",
              "Name: count, dtype: int64"
            ],
            "text/html": [
              "<div>\n",
              "<style scoped>\n",
              "    .dataframe tbody tr th:only-of-type {\n",
              "        vertical-align: middle;\n",
              "    }\n",
              "\n",
              "    .dataframe tbody tr th {\n",
              "        vertical-align: top;\n",
              "    }\n",
              "\n",
              "    .dataframe thead th {\n",
              "        text-align: right;\n",
              "    }\n",
              "</style>\n",
              "<table border=\"1\" class=\"dataframe\">\n",
              "  <thead>\n",
              "    <tr style=\"text-align: right;\">\n",
              "      <th></th>\n",
              "      <th>count</th>\n",
              "    </tr>\n",
              "    <tr>\n",
              "      <th>forma_pagamento</th>\n",
              "      <th></th>\n",
              "    </tr>\n",
              "  </thead>\n",
              "  <tbody>\n",
              "    <tr>\n",
              "      <th>Carteira Digital</th>\n",
              "      <td>345</td>\n",
              "    </tr>\n",
              "    <tr>\n",
              "      <th>Dinheiro</th>\n",
              "      <td>344</td>\n",
              "    </tr>\n",
              "    <tr>\n",
              "      <th>Cartão de Crédito</th>\n",
              "      <td>311</td>\n",
              "    </tr>\n",
              "  </tbody>\n",
              "</table>\n",
              "</div><br><label><b>dtype:</b> int64</label>"
            ]
          },
          "metadata": {},
          "execution_count": 14
        }
      ]
    },
    {
      "cell_type": "code",
      "source": [
        "response = query_engine.query('Qual é o tipo de produto com maior quantidade por filial?')"
      ],
      "metadata": {
        "colab": {
          "base_uri": "https://localhost:8080/"
        },
        "id": "_HmGgPO_wm8d",
        "outputId": "9b6c557c-a1ca-492a-87b9-7bbe992d668e"
      },
      "execution_count": null,
      "outputs": [
        {
          "output_type": "stream",
          "name": "stdout",
          "text": [
            "> Pandas Instructions:\n",
            "```\n",
            "df.groupby('filial')['tipo_produto'].value_counts().groupby(level=0).head(1)\n",
            "```\n",
            "> Pandas Output: filial  tipo_produto       \n",
            "A       Casa                   65\n",
            "B       Esportes e Viagem      62\n",
            "C       Alimentos e Bebidas    66\n",
            "Name: count, dtype: int64\n"
          ]
        }
      ]
    },
    {
      "cell_type": "code",
      "source": [
        "df.groupby(['filial', 'tipo_produto'])['quantidade'].sum()"
      ],
      "metadata": {
        "colab": {
          "base_uri": "https://localhost:8080/",
          "height": 301
        },
        "id": "gbm6LPEQxDEB",
        "outputId": "8ea3d11b-495a-464e-d0c0-67c4561f3118"
      },
      "execution_count": null,
      "outputs": [
        {
          "output_type": "execute_result",
          "data": {
            "text/plain": [
              "filial  tipo_produto       \n",
              "A       Alimentos e Bebidas    313\n",
              "        Casa                   371\n",
              "                              ... \n",
              "C       Moda                   342\n",
              "        Saúde e Beleza         277\n",
              "Name: quantidade, Length: 18, dtype: int64"
            ],
            "text/html": [
              "<div>\n",
              "<style scoped>\n",
              "    .dataframe tbody tr th:only-of-type {\n",
              "        vertical-align: middle;\n",
              "    }\n",
              "\n",
              "    .dataframe tbody tr th {\n",
              "        vertical-align: top;\n",
              "    }\n",
              "\n",
              "    .dataframe thead th {\n",
              "        text-align: right;\n",
              "    }\n",
              "</style>\n",
              "<table border=\"1\" class=\"dataframe\">\n",
              "  <thead>\n",
              "    <tr style=\"text-align: right;\">\n",
              "      <th></th>\n",
              "      <th></th>\n",
              "      <th>quantidade</th>\n",
              "    </tr>\n",
              "    <tr>\n",
              "      <th>filial</th>\n",
              "      <th>tipo_produto</th>\n",
              "      <th></th>\n",
              "    </tr>\n",
              "  </thead>\n",
              "  <tbody>\n",
              "    <tr>\n",
              "      <th rowspan=\"2\" valign=\"top\">A</th>\n",
              "      <th>Alimentos e Bebidas</th>\n",
              "      <td>313</td>\n",
              "    </tr>\n",
              "    <tr>\n",
              "      <th>Casa</th>\n",
              "      <td>371</td>\n",
              "    </tr>\n",
              "    <tr>\n",
              "      <th>...</th>\n",
              "      <th>...</th>\n",
              "      <td>...</td>\n",
              "    </tr>\n",
              "    <tr>\n",
              "      <th rowspan=\"2\" valign=\"top\">C</th>\n",
              "      <th>Moda</th>\n",
              "      <td>342</td>\n",
              "    </tr>\n",
              "    <tr>\n",
              "      <th>Saúde e Beleza</th>\n",
              "      <td>277</td>\n",
              "    </tr>\n",
              "  </tbody>\n",
              "</table>\n",
              "<p>18 rows × 1 columns</p>\n",
              "</div><br><label><b>dtype:</b> int64</label>"
            ]
          },
          "metadata": {},
          "execution_count": 16
        }
      ]
    },
    {
      "cell_type": "code",
      "source": [
        "response"
      ],
      "metadata": {
        "colab": {
          "base_uri": "https://localhost:8080/"
        },
        "id": "PynCQMj6xUXB",
        "outputId": "695d6cf8-070e-46ce-d78e-fe39fbdd0e6e"
      },
      "execution_count": null,
      "outputs": [
        {
          "output_type": "execute_result",
          "data": {
            "text/plain": [
              "Response(response='filial  tipo_produto       \\nA       Casa                   65\\nB       Esportes e Viagem      62\\nC       Alimentos e Bebidas    66\\nName: count, dtype: int64', source_nodes=[], metadata={'pandas_instruction_str': \"df.groupby('filial')['tipo_produto'].value_counts().groupby(level=0).head(1)\", 'raw_pandas_output': 'filial  tipo_produto       \\nA       Casa                   65\\nB       Esportes e Viagem      62\\nC       Alimentos e Bebidas    66\\nName: count, dtype: int64'})"
            ]
          },
          "metadata": {},
          "execution_count": 17
        }
      ]
    },
    {
      "cell_type": "code",
      "source": [
        "print(response.response)"
      ],
      "metadata": {
        "colab": {
          "base_uri": "https://localhost:8080/"
        },
        "id": "9b9P5E5Kx0VR",
        "outputId": "1087067a-8a19-42df-ed0e-da285a7d6f4b"
      },
      "execution_count": null,
      "outputs": [
        {
          "output_type": "stream",
          "name": "stdout",
          "text": [
            "filial  tipo_produto       \n",
            "A       Casa                   65\n",
            "B       Esportes e Viagem      62\n",
            "C       Alimentos e Bebidas    66\n",
            "Name: count, dtype: int64\n"
          ]
        }
      ]
    },
    {
      "cell_type": "markdown",
      "source": [
        "#**Aula 2: Realizando consultas e customizando saídas**"
      ],
      "metadata": {
        "id": "uS473Kn23oJH"
      }
    },
    {
      "cell_type": "markdown",
      "source": [
        "##**Obtendo respostas com explicações**"
      ],
      "metadata": {
        "id": "C0EBYleb3pAb"
      }
    },
    {
      "cell_type": "code",
      "source": [
        "query_engine = PandasQueryEngine(df=df, verbose=True, synthesize_response=True)"
      ],
      "metadata": {
        "id": "Z0k2Sf3ex7L1"
      },
      "execution_count": null,
      "outputs": []
    },
    {
      "cell_type": "code",
      "source": [
        "response = query_engine.query('Qual é a avaliação média de cada filial?')\n",
        "print(str(response))"
      ],
      "metadata": {
        "colab": {
          "base_uri": "https://localhost:8080/"
        },
        "id": "SIUgsK3fOGPT",
        "outputId": "e6663ab5-ed7c-48be-b151-b6521e5ea34a"
      },
      "execution_count": null,
      "outputs": [
        {
          "output_type": "stream",
          "name": "stdout",
          "text": [
            "> Pandas Instructions:\n",
            "```\n",
            "df.groupby('filial')['avaliacao'].mean()\n",
            "```\n",
            "> Pandas Output: filial\n",
            "A    7.027059\n",
            "B    6.818072\n",
            "C    7.072866\n",
            "Name: avaliacao, dtype: float64\n",
            "A avaliação média de cada filial é a seguinte: \n",
            "- Filial A: 7.03\n",
            "- Filial B: 6.82\n",
            "- Filial C: 7.07\n",
            "\n",
            "Esses valores indicam a média das avaliações recebidas por cada uma das filiais.\n"
          ]
        }
      ]
    },
    {
      "cell_type": "code",
      "source": [
        "df.groupby('filial')['avaliacao'].mean()"
      ],
      "metadata": {
        "colab": {
          "base_uri": "https://localhost:8080/",
          "height": 209
        },
        "id": "Ru-5172dPc_G",
        "outputId": "65acd047-0556-4a9b-9f6c-d6358b51fd79"
      },
      "execution_count": null,
      "outputs": [
        {
          "output_type": "execute_result",
          "data": {
            "text/plain": [
              "filial\n",
              "A    7.027059\n",
              "B    6.818072\n",
              "C    7.072866\n",
              "Name: avaliacao, dtype: float64"
            ],
            "text/html": [
              "<div>\n",
              "<style scoped>\n",
              "    .dataframe tbody tr th:only-of-type {\n",
              "        vertical-align: middle;\n",
              "    }\n",
              "\n",
              "    .dataframe tbody tr th {\n",
              "        vertical-align: top;\n",
              "    }\n",
              "\n",
              "    .dataframe thead th {\n",
              "        text-align: right;\n",
              "    }\n",
              "</style>\n",
              "<table border=\"1\" class=\"dataframe\">\n",
              "  <thead>\n",
              "    <tr style=\"text-align: right;\">\n",
              "      <th></th>\n",
              "      <th>avaliacao</th>\n",
              "    </tr>\n",
              "    <tr>\n",
              "      <th>filial</th>\n",
              "      <th></th>\n",
              "    </tr>\n",
              "  </thead>\n",
              "  <tbody>\n",
              "    <tr>\n",
              "      <th>A</th>\n",
              "      <td>7.027059</td>\n",
              "    </tr>\n",
              "    <tr>\n",
              "      <th>B</th>\n",
              "      <td>6.818072</td>\n",
              "    </tr>\n",
              "    <tr>\n",
              "      <th>C</th>\n",
              "      <td>7.072866</td>\n",
              "    </tr>\n",
              "  </tbody>\n",
              "</table>\n",
              "</div><br><label><b>dtype:</b> float64</label>"
            ]
          },
          "metadata": {},
          "execution_count": 21
        }
      ]
    },
    {
      "cell_type": "code",
      "source": [
        "response.response"
      ],
      "metadata": {
        "colab": {
          "base_uri": "https://localhost:8080/",
          "height": 52
        },
        "id": "wVHM5U6jO1Kl",
        "outputId": "1c1c7385-67f8-4fc3-cfa0-1ad3d4e9a068"
      },
      "execution_count": null,
      "outputs": [
        {
          "output_type": "execute_result",
          "data": {
            "text/plain": [
              "'A avaliação média de cada filial é a seguinte: \\n- Filial A: 7.03\\n- Filial B: 6.82\\n- Filial C: 7.07\\n\\nEsses valores indicam a média das avaliações recebidas por cada uma das filiais.'"
            ],
            "application/vnd.google.colaboratory.intrinsic+json": {
              "type": "string"
            }
          },
          "metadata": {},
          "execution_count": 22
        }
      ]
    },
    {
      "cell_type": "code",
      "source": [
        "import textwrap\n",
        "\n",
        "def formatar_texto(response):\n",
        "  texto = response.response\n",
        "  texto_formatado = textwrap.fill(texto, width=100)\n",
        "  print(texto_formatado)"
      ],
      "metadata": {
        "id": "EuuL8oqdOR5F"
      },
      "execution_count": null,
      "outputs": []
    },
    {
      "cell_type": "code",
      "source": [
        "formatar_texto(response)"
      ],
      "metadata": {
        "colab": {
          "base_uri": "https://localhost:8080/"
        },
        "id": "mIVvTBjQPK6p",
        "outputId": "94ef03df-f1f4-4923-b43b-afa9b6800105"
      },
      "execution_count": null,
      "outputs": [
        {
          "output_type": "stream",
          "name": "stdout",
          "text": [
            "A avaliação média de cada filial é a seguinte:  - Filial A: 7.03 - Filial B: 6.82 - Filial C: 7.07\n",
            "Esses valores indicam a média das avaliações recebidas por cada uma das filiais.\n"
          ]
        }
      ]
    },
    {
      "cell_type": "markdown",
      "source": [
        "##**Obtendo gráficos**"
      ],
      "metadata": {
        "id": "HsPE6O4j3scX"
      }
    },
    {
      "cell_type": "code",
      "source": [
        "response = query_engine.query('Você pode exibir a distribuição das avaliações?')"
      ],
      "metadata": {
        "colab": {
          "base_uri": "https://localhost:8080/"
        },
        "id": "XzK77shQPQLJ",
        "outputId": "147b6c24-bd33-479a-d345-c7c82b5f2297"
      },
      "execution_count": null,
      "outputs": [
        {
          "output_type": "stream",
          "name": "stdout",
          "text": [
            "> Pandas Instructions:\n",
            "```\n",
            "df['avaliacao'].value_counts()\n",
            "```\n",
            "> Pandas Output: avaliacao\n",
            "6.0     26\n",
            "6.6     24\n",
            "        ..\n",
            "4.6      8\n",
            "10.0     5\n",
            "Name: count, Length: 61, dtype: int64\n"
          ]
        }
      ]
    },
    {
      "cell_type": "code",
      "source": [
        "formatar_texto(response)"
      ],
      "metadata": {
        "colab": {
          "base_uri": "https://localhost:8080/"
        },
        "id": "pZ-RRn7TRdAO",
        "outputId": "422ffec0-0456-41f0-c71d-ea7f551d4796"
      },
      "execution_count": null,
      "outputs": [
        {
          "output_type": "stream",
          "name": "stdout",
          "text": [
            "Sim, posso exibir a distribuição das avaliações. A distribuição é a seguinte:  - Avaliação 6.0: 26\n",
            "ocorrências - Avaliação 6.6: 24 ocorrências - ... - Avaliação 4.6: 8 ocorrências - Avaliação 10.0: 5\n",
            "ocorrências  Há um total de 61 avaliações diferentes. Se você precisar de mais informações ou\n",
            "detalhes, basta perguntar!\n"
          ]
        }
      ]
    },
    {
      "cell_type": "code",
      "source": [
        "response = query_engine.query('Você pode plotar a distribuição das avaliações?')"
      ],
      "metadata": {
        "colab": {
          "base_uri": "https://localhost:8080/",
          "height": 620
        },
        "id": "lcopfG5gRhmR",
        "outputId": "9c85c7ee-2bb3-4363-af05-ab9cc0d22c18"
      },
      "execution_count": null,
      "outputs": [
        {
          "output_type": "stream",
          "name": "stdout",
          "text": [
            "> Pandas Instructions:\n",
            "```\n",
            "df['avaliacao'].plot.hist(bins=10, figsize=(10, 6), title='Distribuição das Avaliações')\n",
            "```\n",
            "> Pandas Output: Axes(0.125,0.11;0.775x0.77)\n"
          ]
        },
        {
          "output_type": "display_data",
          "data": {
            "text/plain": [
              "<Figure size 1000x600 with 1 Axes>"
            ],
            "image/png": "[encoded data removed]"
          },
          "metadata": {}
        }
      ]
    },
    {
      "cell_type": "code",
      "source": [
        "formatar_texto(response)"
      ],
      "metadata": {
        "colab": {
          "base_uri": "https://localhost:8080/"
        },
        "id": "e5CZnTvGR1df",
        "outputId": "b10c425d-6313-4835-dc37-d7c09ec0b053"
      },
      "execution_count": null,
      "outputs": [
        {
          "output_type": "stream",
          "name": "stdout",
          "text": [
            "Sim, é possível plotar a distribuição das avaliações. Utilizando a biblioteca Pandas, podemos criar\n",
            "um histograma para visualizar a distribuição das avaliações.   Aqui está um exemplo de como fazer\n",
            "isso: ```python df['avaliacao'].plot.hist(bins=10, figsize=(10, 6), title='Distribuição das\n",
            "Avaliações') ``` Esse código irá criar um histograma com 10 bins, tamanho de figura 10x6 e título\n",
            "'Distribuição das Avaliações'. O resultado será um gráfico que mostra a distribuição das avaliações,\n",
            "permitindo visualizar a frequência de cada faixa de avaliação.  O resultado do código é um objeto\n",
            "Axes, que representa o gráfico gerado. Nesse caso, o resultado é `Axes(0.125,0.11;0.775x0.77)`, que\n",
            "indica as dimensões do gráfico.  Com essa visualização, é possível analisar a distribuição das\n",
            "avaliações e identificar padrões ou tendências, como se as avaliações estão concentradas em uma\n",
            "faixa específica ou se há uma distribuição uniforme. Além disso, é possível ajustar os parâmetros do\n",
            "histograma, como o número de bins ou o tamanho da figura, para obter uma visualização mais clara e\n",
            "útil.\n"
          ]
        }
      ]
    },
    {
      "cell_type": "code",
      "source": [
        "response = query_engine.query('''Você pode plotar o valor total por tipo de produto,\n",
        "ordenando do menor para o maior e mantendo as barras na horizontal?''')"
      ],
      "metadata": {
        "colab": {
          "base_uri": "https://localhost:8080/",
          "height": 517
        },
        "id": "IUmk6ajaR9rz",
        "outputId": "0df0b14e-2e6f-42a7-98c0-f13704d1ebd4"
      },
      "execution_count": null,
      "outputs": [
        {
          "output_type": "stream",
          "name": "stdout",
          "text": [
            "> Pandas Instructions:\n",
            "```\n",
            "df.groupby('tipo_produto')['total'].sum().sort_values(ascending=True).plot(kind='barh')\n",
            "```\n",
            "> Pandas Output: Axes(0.125,0.11;0.775x0.77)\n"
          ]
        },
        {
          "output_type": "display_data",
          "data": {
            "text/plain": [
              "<Figure size 640x480 with 1 Axes>"
            ],
            "image/png": "[encoded data removed]"
          },
          "metadata": {}
        }
      ]
    },
    {
      "cell_type": "code",
      "source": [
        "formatar_texto(response)"
      ],
      "metadata": {
        "colab": {
          "base_uri": "https://localhost:8080/"
        },
        "id": "Ee5agiArShfY",
        "outputId": "87f098e1-0dd9-449b-ece9-7f5a93e23da4"
      },
      "execution_count": null,
      "outputs": [
        {
          "output_type": "stream",
          "name": "stdout",
          "text": [
            "Sim, é possível plotar o valor total por tipo de produto, ordenando do menor para o maior e mantendo\n",
            "as barras na horizontal.   Para fazer isso, você pode usar a biblioteca Pandas para manipular os\n",
            "dados e a biblioteca Matplotlib para criar o gráfico. Aqui está um exemplo de como você pode fazer\n",
            "isso:  ```python import pandas as pd import matplotlib.pyplot as plt  # Supondo que você tenha um\n",
            "DataFrame chamado 'df' com as colunas 'tipo_produto' e 'total'  # Agrupe os dados por 'tipo_produto'\n",
            "e some os valores de 'total' valor_total_por_tipo = df.groupby('tipo_produto')['total'].sum()  #\n",
            "Ordene os valores do menor para o maior valor_total_por_tipo_ordenado =\n",
            "valor_total_por_tipo.sort_values(ascending=True)  # Crie o gráfico de barras horizontais\n",
            "valor_total_por_tipo_ordenado.plot(kind='barh')  # Mostre o gráfico plt.show() ```  Esse código irá\n",
            "criar um gráfico de barras horizontais onde o eixo x representa o valor total e o eixo y representa\n",
            "o tipo de produto. As barras serão ordenadas do menor para o maior valor total.  Lembre-se de que\n",
            "você precisa ter as bibliotecas Pandas e Matplotlib instaladas para executar esse código. Se você\n",
            "não tiver, pode instalar usando pip:  ```bash pip install pandas matplotlib ```\n"
          ]
        }
      ]
    },
    {
      "cell_type": "code",
      "source": [
        "response = query_engine.query('''Plote o valor total por tipo de produto,\n",
        "ordenando do menor para o maior e mantendo as barras na horizontal''')"
      ],
      "metadata": {
        "colab": {
          "base_uri": "https://localhost:8080/",
          "height": 517
        },
        "id": "D3zb-Cs4Sxja",
        "outputId": "750c3e11-b68a-4c54-f038-b8028b7479c6"
      },
      "execution_count": null,
      "outputs": [
        {
          "output_type": "stream",
          "name": "stdout",
          "text": [
            "> Pandas Instructions:\n",
            "```\n",
            "df.groupby('tipo_produto')['total'].sum().sort_values(ascending=True).plot(kind='barh')\n",
            "```\n",
            "> Pandas Output: Axes(0.125,0.11;0.775x0.77)\n"
          ]
        },
        {
          "output_type": "display_data",
          "data": {
            "text/plain": [
              "<Figure size 640x480 with 1 Axes>"
            ],
            "image/png": "[encoded data removed]"
          },
          "metadata": {}
        }
      ]
    },
    {
      "cell_type": "code",
      "source": [
        "formatar_texto(response)"
      ],
      "metadata": {
        "colab": {
          "base_uri": "https://localhost:8080/"
        },
        "id": "tEVwBj12TCwk",
        "outputId": "24b9ec8f-836c-4cd8-d691-719af4fd10a0"
      },
      "execution_count": null,
      "outputs": [
        {
          "output_type": "stream",
          "name": "stdout",
          "text": [
            "Para plotar o valor total por tipo de produto, ordenando do menor para o maior e mantendo as barras\n",
            "na horizontal, você pode utilizar a biblioteca Pandas em Python. Aqui está um exemplo de como fazer\n",
            "isso:  ```python import pandas as pd import matplotlib.pyplot as plt  # Suponha que você tenha um\n",
            "DataFrame chamado 'df' com as colunas 'tipo_produto' e 'total'  # Agrupe os dados por 'tipo_produto'\n",
            "e some os valores de 'total' valor_total_por_tipo = df.groupby('tipo_produto')['total'].sum()  #\n",
            "Ordene os valores do menor para o maior valor_total_por_tipo_ordenado =\n",
            "valor_total_por_tipo.sort_values(ascending=True)  # Plote os dados em um gráfico de barras\n",
            "horizontais valor_total_por_tipo_ordenado.plot(kind='barh')  # Mostre o gráfico plt.show() ```  Esse\n",
            "código primeiro agrupa os dados por 'tipo_produto' e calcula a soma dos valores de 'total' para cada\n",
            "grupo. Em seguida, ordena esses valores do menor para o maior. Finalmente, plota os dados em um\n",
            "gráfico de barras horizontais, onde cada barra representa o valor total para um tipo de produto\n",
            "específico.  Lembre-se de que, para executar esse código, você precisa ter o Pandas e o Matplotlib\n",
            "instalados em seu ambiente Python. Se você ainda não os instalou, pode fazê-lo usando pip:  ```bash\n",
            "pip install pandas matplotlib ```\n"
          ]
        }
      ]
    },
    {
      "cell_type": "markdown",
      "source": [
        "##**Direcionando o idioma das respostas**"
      ],
      "metadata": {
        "id": "E-08oOye3vGs"
      }
    },
    {
      "cell_type": "code",
      "source": [
        "response = query_engine.query('Qual é o método de pagamento mais utilizado em cada filial?')\n",
        "print(response.response)"
      ],
      "metadata": {
        "colab": {
          "base_uri": "https://localhost:8080/"
        },
        "id": "G7OoJapqTFe6",
        "outputId": "5d9529e5-ddde-472f-f4c3-74f8988970ca"
      },
      "execution_count": null,
      "outputs": [
        {
          "output_type": "stream",
          "name": "stdout",
          "text": [
            "> Pandas Instructions:\n",
            "```\n",
            "df.groupby('filial')['forma_pagamento'].apply(lambda x: x.mode().iloc[0])\n",
            "```\n",
            "> Pandas Output: filial\n",
            "A    Carteira Digital\n",
            "B    Carteira Digital\n",
            "C            Dinheiro\n",
            "Name: forma_pagamento, dtype: object\n",
            "O método de pagamento mais utilizado em cada filial é o seguinte:\n",
            "\n",
            "- Na filial A, o método de pagamento mais utilizado é a Carteira Digital.\n",
            "- Na filial B, o método de pagamento mais utilizado também é a Carteira Digital.\n",
            "- Na filial C, o método de pagamento mais utilizado é o Dinheiro.\n",
            "\n",
            "Esses resultados indicam que as filiais A e B têm uma preferência pela Carteira Digital, enquanto a filial C tem uma preferência pelo pagamento em Dinheiro.\n"
          ]
        }
      ]
    },
    {
      "cell_type": "code",
      "source": [
        "response = query_engine.query('Qual é o método de pagamento mais utilizado em cada filial? Responda em português BR')\n",
        "print(response.response)"
      ],
      "metadata": {
        "colab": {
          "base_uri": "https://localhost:8080/"
        },
        "id": "fHs5WUG_UpAw",
        "outputId": "6d811a60-6572-4a40-faf3-7c4e962e7515"
      },
      "execution_count": null,
      "outputs": [
        {
          "output_type": "stream",
          "name": "stdout",
          "text": [
            "> Pandas Instructions:\n",
            "```\n",
            "df.groupby('filial')['forma_pagamento'].apply(lambda x: x.mode().iloc[0])\n",
            "```\n",
            "> Pandas Output: filial\n",
            "A    Carteira Digital\n",
            "B    Carteira Digital\n",
            "C            Dinheiro\n",
            "Name: forma_pagamento, dtype: object\n",
            "O método de pagamento mais utilizado em cada filial é o seguinte:\n",
            "\n",
            "- Na filial A, o método mais utilizado é a Carteira Digital.\n",
            "- Na filial B, o método mais utilizado também é a Carteira Digital.\n",
            "- Na filial C, o método mais utilizado é o Dinheiro.\n",
            "\n",
            "Esses resultados indicam que as filiais A e B têm uma preferência por métodos de pagamento digitais, enquanto a filial C ainda tem uma preferência por pagamentos em dinheiro.\n"
          ]
        }
      ]
    },
    {
      "cell_type": "code",
      "source": [
        "df.groupby('filial')['forma_pagamento'].value_counts()"
      ],
      "metadata": {
        "colab": {
          "base_uri": "https://localhost:8080/",
          "height": 301
        },
        "id": "6BxVc59dU9Iy",
        "outputId": "be8b42af-ae3f-497f-bb10-7377cb333850"
      },
      "execution_count": null,
      "outputs": [
        {
          "output_type": "execute_result",
          "data": {
            "text/plain": [
              "filial  forma_pagamento  \n",
              "A       Carteira Digital     126\n",
              "        Dinheiro             110\n",
              "                            ... \n",
              "C       Carteira Digital     106\n",
              "        Cartão de Crédito     98\n",
              "Name: count, Length: 9, dtype: int64"
            ],
            "text/html": [
              "<div>\n",
              "<style scoped>\n",
              "    .dataframe tbody tr th:only-of-type {\n",
              "        vertical-align: middle;\n",
              "    }\n",
              "\n",
              "    .dataframe tbody tr th {\n",
              "        vertical-align: top;\n",
              "    }\n",
              "\n",
              "    .dataframe thead th {\n",
              "        text-align: right;\n",
              "    }\n",
              "</style>\n",
              "<table border=\"1\" class=\"dataframe\">\n",
              "  <thead>\n",
              "    <tr style=\"text-align: right;\">\n",
              "      <th></th>\n",
              "      <th></th>\n",
              "      <th>count</th>\n",
              "    </tr>\n",
              "    <tr>\n",
              "      <th>filial</th>\n",
              "      <th>forma_pagamento</th>\n",
              "      <th></th>\n",
              "    </tr>\n",
              "  </thead>\n",
              "  <tbody>\n",
              "    <tr>\n",
              "      <th rowspan=\"2\" valign=\"top\">A</th>\n",
              "      <th>Carteira Digital</th>\n",
              "      <td>126</td>\n",
              "    </tr>\n",
              "    <tr>\n",
              "      <th>Dinheiro</th>\n",
              "      <td>110</td>\n",
              "    </tr>\n",
              "    <tr>\n",
              "      <th>...</th>\n",
              "      <th>...</th>\n",
              "      <td>...</td>\n",
              "    </tr>\n",
              "    <tr>\n",
              "      <th rowspan=\"2\" valign=\"top\">C</th>\n",
              "      <th>Carteira Digital</th>\n",
              "      <td>106</td>\n",
              "    </tr>\n",
              "    <tr>\n",
              "      <th>Cartão de Crédito</th>\n",
              "      <td>98</td>\n",
              "    </tr>\n",
              "  </tbody>\n",
              "</table>\n",
              "<p>9 rows × 1 columns</p>\n",
              "</div><br><label><b>dtype:</b> int64</label>"
            ]
          },
          "metadata": {},
          "execution_count": 35
        }
      ]
    },
    {
      "cell_type": "markdown",
      "source": [
        "#**Aula 3: Trabalhando com pipelines**"
      ],
      "metadata": {
        "id": "_CCd3vX95R7G"
      }
    },
    {
      "cell_type": "markdown",
      "source": [
        "##**Definindo os módulos do pipeline**"
      ],
      "metadata": {
        "id": "gVUfeAmi5VPS"
      }
    },
    {
      "cell_type": "code",
      "source": [
        "from llama_index.core import PromptTemplate\n",
        "from llama_index.experimental.query_engine.pandas import PandasInstructionParser"
      ],
      "metadata": {
        "id": "AvD9xw8Gryzy"
      },
      "execution_count": null,
      "outputs": []
    },
    {
      "cell_type": "code",
      "source": [
        "# Função para obter uma descrição das colunas do DataFrame\n",
        "def descricao_colunas(df):\n",
        "  descricao = '\\n'.join([f\"`{col}`: {str(df[col].dtype)}\" for col in df.columns])\n",
        "  return 'Aqui estão os detalhes das colunas do DataFrame:\\n' + descricao\n",
        "\n",
        "# Instruções para orientar o modelo a converter uma consulta em linguagem natural em código Python executável com a biblioteca Pandas\n",
        "instruction_str = (\n",
        "    \"1. Converta a consulta para código Python executável usando Pandas.\\n\"\n",
        "    \"2. A linha final do código deve ser uma expressão Python que possa ser chamada com a função `eval()`.\\n\"\n",
        "    \"3. O código deve representar uma solução para a consulta.\\n\"\n",
        "    \"4. IMPRIMA APENAS A EXPRESSÃO.\\n\"\n",
        "    \"5. Não coloque a expressão entre aspas.\\n\")\n",
        "\n",
        "# Prompt que será enviado ao modelo para que ela gere o código Pandas desejado\n",
        "pandas_prompt_str = (\n",
        "    \"Você está trabalhando com um dataframe do pandas em Python chamado `df`.\\n\"\n",
        "    \"{colunas_detalhes}\\n\\n\"\n",
        "    \"Este é o resultado de `print(df.head())`:\\n\"\n",
        "    \"{df_str}\\n\\n\"\n",
        "    \"Siga estas instruções:\\n\"\n",
        "    \"{instruction_str}\\n\"\n",
        "    \"Consulta: {query_str}\\n\\n\"\n",
        "    \"Expressão:\"\n",
        ")\n",
        "\n",
        "# Prompt para guiar o modelo a sintetizar uma resposta com base nos resultados obtidos pela consulta Pandas\n",
        "response_synthesis_prompt_str = (\n",
        "   \"Dada uma pergunta de entrada, atue como analista de dados e elabore uma resposta a partir dos resultados da consulta.\\n\"\n",
        "   \"Responda de forma natural, sem introduções como 'A resposta é:' ou algo semelhante.\\n\"\n",
        "   \"Consulta: {query_str}\\n\\n\"\n",
        "   \"Instruções do Pandas (opcional):\\n{pandas_instructions}\\n\\n\"\n",
        "   \"Saída do Pandas: {pandas_output}\\n\\n\"\n",
        "   \"Resposta:\"\n",
        "   \"Ao final, exibir o código usado para gerar a resposta, no formato: O código utilizado foi {pandas_instructions}\"\n",
        ")\n",
        "\n",
        "# Módulo para obter as instruções Pandas\n",
        "pandas_prompt = PromptTemplate(pandas_prompt_str).partial_format(\n",
        "    instruction_str=instruction_str, colunas_detalhes=descricao_colunas(df), df_str=df.head(5)\n",
        ")\n",
        "# Módulo para executar as instruções Pandas\n",
        "pandas_output_parser = PandasInstructionParser(df)\n",
        "\n",
        "# Módulo para sintetizar a resposta\n",
        "response_synthesis_prompt = PromptTemplate(response_synthesis_prompt_str)\n",
        "\n",
        "# Modelo\n",
        "llm = Groq(model='llama3-70b-8192', api_key=key)"
      ],
      "metadata": {
        "id": "iD1d0St_78ZS"
      },
      "execution_count": null,
      "outputs": []
    },
    {
      "cell_type": "markdown",
      "source": [
        "##**Construindo o pipeline de consulta**"
      ],
      "metadata": {
        "id": "iHM74Zf15ZVr"
      }
    },
    {
      "cell_type": "code",
      "source": [
        "# Definindo os módulos do pipeline\n",
        "qp = QP(\n",
        "    modules = {\n",
        "        \"input\": InputComponent(),\n",
        "        \"pandas_prompt\": pandas_prompt,\n",
        "        \"llm1\": llm,\n",
        "        \"pandas_output_parser\": pandas_output_parser,\n",
        "        \"response_synthesis_prompt\": response_synthesis_prompt,\n",
        "        \"llm2\": llm\n",
        "    },\n",
        "    verbose=True\n",
        ")\n",
        "\n",
        "# Definindo a cadeia\n",
        "qp.add_chain([\"input\", \"pandas_prompt\", \"llm1\", \"pandas_output_parser\"])\n",
        "\n",
        "# Definindo os links\n",
        "qp.add_links(\n",
        "    [\n",
        "        Link(\"input\", \"response_synthesis_prompt\", dest_key=\"query_str\"),\n",
        "\n",
        "        Link(\"llm1\", \"response_synthesis_prompt\", dest_key=\"pandas_instructions\"),\n",
        "\n",
        "        Link(\"pandas_output_parser\", \"response_synthesis_prompt\", dest_key=\"pandas_output\")\n",
        "    ]\n",
        ")\n",
        "qp.add_link(\"response_synthesis_prompt\", \"llm2\")"
      ],
      "metadata": {
        "id": "lzWB1LJFeb1W"
      },
      "execution_count": null,
      "outputs": []
    },
    {
      "cell_type": "markdown",
      "source": [
        "##**Realizando consultas com o pipeline**"
      ],
      "metadata": {
        "id": "fzg5k4gt5co5"
      }
    },
    {
      "cell_type": "code",
      "source": [
        "response = qp.run(query_str='Qual é a média gasta por cada tipo de cliente?')"
      ],
      "metadata": {
        "id": "AmSn331XhbOr"
      },
      "execution_count": null,
      "outputs": []
    },
    {
      "cell_type": "code",
      "source": [
        "texto = response.message.content\n",
        "texto_formatado = textwrap.fill(texto, width=100)\n",
        "print(texto_formatado)"
      ],
      "metadata": {
        "id": "hcVj1iDuiq2T"
      },
      "execution_count": null,
      "outputs": []
    },
    {
      "cell_type": "code",
      "source": [
        "response = qp.run(query_str='Por que clientes tipo membro tem maior média de gasto?')"
      ],
      "metadata": {
        "id": "K6CqFFXlj0QV"
      },
      "execution_count": null,
      "outputs": []
    },
    {
      "cell_type": "code",
      "source": [
        "texto = response.message.content\n",
        "texto_formatado = textwrap.fill(texto, width=100)\n",
        "print(texto_formatado)"
      ],
      "metadata": {
        "id": "AzFf9a_BkPH7"
      },
      "execution_count": null,
      "outputs": []
    },
    {
      "cell_type": "markdown",
      "source": [
        "#**Aula 4: Criando uma aplicação**"
      ],
      "metadata": {
        "id": "i-zLODlr7R77"
      }
    },
    {
      "cell_type": "markdown",
      "source": [
        "##**Criando a interface**"
      ],
      "metadata": {
        "id": "eekzWG427XEa"
      }
    },
    {
      "cell_type": "code",
      "source": [
        "!pip install gradio -q"
      ],
      "metadata": {
        "id": "jhO9DCs77WeT"
      },
      "execution_count": null,
      "outputs": []
    },
    {
      "cell_type": "code",
      "source": [
        "import gradio as gr\n",
        "\n",
        "with gr.Blocks() as app:\n",
        "    # Campo de entrada de arquivos\n",
        "    input_arquivo = gr.File(file_count=\"single\", type=\"filepath\", label=\"Upload CSV\")\n",
        "\n",
        "    # Campo de entrada de texto\n",
        "    input_pergunta = gr.Textbox(label=\"Digite sua pergunta sobre os dados\")\n",
        "\n",
        "    # Botão de envio posicionado após a pergunta\n",
        "    botao_submeter = gr.Button(\"Enviar\")\n",
        "\n",
        "    # Componente de resposta\n",
        "    output_resposta = gr.Textbox(label=\"Resposta\")\n",
        "\n",
        "    # Componente de download\n",
        "    arquivo_pdf = gr.File(label=\"Download do PDF\")\n",
        "\n",
        "app.launch(debug=True)"
      ],
      "metadata": {
        "id": "fY9ri1Ij76qi"
      },
      "execution_count": null,
      "outputs": []
    },
    {
      "cell_type": "markdown",
      "source": [
        "##**Carregando os dados e realizando consultas**"
      ],
      "metadata": {
        "id": "uEkAWBye7amE"
      }
    },
    {
      "cell_type": "code",
      "source": [
        "# Pipeline de consulta\n",
        "'''Função para obter uma descrição das colunas do DataFrame'''\n",
        "def descricao_colunas(df):\n",
        "    descricao = '\\n'.join([f\"`{col}`: {str(df[col].dtype)}\" for col in df.columns])\n",
        "    return \"Aqui estão os detalhes das colunas do dataframe:\\n\" + descricao\n",
        "\n",
        "'''Definição de módulos da pipeline'''\n",
        "def pipeline_consulta(df):\n",
        "    instruction_str = (\n",
        "        \"1. Converta a consulta para código Python executável usando Pandas.\\n\"\n",
        "        \"2. A linha final do código deve ser uma expressão Python que possa ser chamada com a função `eval()`.\\n\"\n",
        "        \"3. O código deve representar uma solução para a consulta.\\n\"\n",
        "        \"4. IMPRIMA APENAS A EXPRESSÃO.\\n\"\n",
        "        \"5. Não coloque a expressão entre aspas.\\n\")\n",
        "\n",
        "    pandas_prompt_str = (\n",
        "        \"Você está trabalhando com um dataframe do pandas em Python chamado `df`.\\n\"\n",
        "        \"{colunas_detalhes}\\n\\n\"\n",
        "        \"Este é o resultado de `print(df.head())`:\\n\"\n",
        "        \"{df_str}\\n\\n\"\n",
        "        \"Siga estas instruções:\\n\"\n",
        "        \"{instruction_str}\\n\"\n",
        "        \"Consulta: {query_str}\\n\\n\"\n",
        "        \"Expressão:\"\n",
        ")\n",
        "\n",
        "    response_synthesis_prompt_str = (\n",
        "       \"Dada uma pergunta de entrada, atue como analista de dados e elabore uma resposta a partir dos resultados da consulta.\\n\"\n",
        "       \"Responda de forma natural, sem introduções como 'A resposta é:' ou algo semelhante.\\n\"\n",
        "       \"Consulta: {query_str}\\n\\n\"\n",
        "       \"Instruções do Pandas (opcional):\\n{pandas_instructions}\\n\\n\"\n",
        "       \"Saída do Pandas: {pandas_output}\\n\\n\"\n",
        "       \"Resposta: \\n\\n\"\n",
        "       \"Ao final, exibir o código usado em para gerar a resposta, no formato: O código utilizado foi `{pandas_instructions}`\"\n",
        "    )\n",
        "\n",
        "    pandas_prompt = PromptTemplate(pandas_prompt_str).partial_format(\n",
        "    instruction_str=instruction_str,\n",
        "    df_str=df.head(5),\n",
        "    colunas_detalhes=descricao_colunas(df)\n",
        ")\n",
        "\n",
        "    pandas_output_parser = PandasInstructionParser(df)\n",
        "    response_synthesis_prompt = PromptTemplate(response_synthesis_prompt_str)\n",
        "\n",
        "    '''Criação do Query Pipeline'''\n",
        "    qp = QP(\n",
        "        modules={\n",
        "            \"input\": InputComponent(),\n",
        "            \"pandas_prompt\": pandas_prompt,\n",
        "            \"llm1\": llm,\n",
        "            \"pandas_output_parser\": pandas_output_parser,\n",
        "            \"response_synthesis_prompt\": response_synthesis_prompt,\n",
        "            \"llm2\": llm,\n",
        "        },\n",
        "        verbose=True,\n",
        "    )\n",
        "    qp.add_chain([\"input\", \"pandas_prompt\", \"llm1\", \"pandas_output_parser\"])\n",
        "    qp.add_links(\n",
        "        [\n",
        "            Link(\"input\", \"response_synthesis_prompt\", dest_key=\"query_str\"),\n",
        "            Link(\"llm1\", \"response_synthesis_prompt\", dest_key=\"pandas_instructions\"),\n",
        "            Link(\"pandas_output_parser\", \"response_synthesis_prompt\", dest_key=\"pandas_output\"),\n",
        "        ]\n",
        "    )\n",
        "    qp.add_link(\"response_synthesis_prompt\", \"llm2\")\n",
        "    return qp"
      ],
      "metadata": {
        "id": "Fic0IA-S7pwg"
      },
      "execution_count": null,
      "outputs": []
    },
    {
      "cell_type": "code",
      "source": [
        "# Função para carregar os dados\n",
        "def carregar_dados(caminho_arquivo, df_estado):\n",
        "    if caminho_arquivo is None or caminho_arquivo == \"\":\n",
        "        return \"Por favor, faça o upload de um arquivo CSV para analisar.\", df_estado\n",
        "    try:\n",
        "        df = pd.read_csv(caminho_arquivo)\n",
        "        return \"Arquivo carregado com sucesso!\", df\n",
        "    except Exception as e:\n",
        "        return f\"Erro ao carregar arquivo: {str(e)}\", df_estado\n",
        "\n",
        "# Função para processar a pergunta\n",
        "def processar_pergunta(pergunta, df_estado):\n",
        "    if df_estado is not None and pergunta:\n",
        "        qp = pipeline_consulta(df_estado)\n",
        "        resposta = qp.run(query_str=pergunta)\n",
        "        return resposta.message.content\n",
        "    return \"\"\n",
        "\n",
        "# Criação da interface gradio\n",
        "with gr.Blocks() as app:\n",
        "    # Campo de entrada de arquivos\n",
        "    input_arquivo = gr.File(file_count=\"single\", type=\"filepath\", label=\"Upload CSV\")\n",
        "\n",
        "    # Status de upload\n",
        "    upload_status = gr.Textbox(label=\"Status do Upload:\")\n",
        "\n",
        "    # Campo de entrada de texto\n",
        "    input_pergunta = gr.Textbox(label=\"Digite sua pergunta sobre os dados\")\n",
        "\n",
        "    # Botão de envio posicionado após a pergunta\n",
        "    botao_submeter = gr.Button(\"Enviar\")\n",
        "\n",
        "    # Componente de resposta\n",
        "    output_resposta = gr.Textbox(label=\"Resposta\")\n",
        "\n",
        "    # Componente de download\n",
        "    arquivo_pdf = gr.File(label=\"Download do PDF\")\n",
        "\n",
        "    # Gerenciamento de estados\n",
        "    df_estado = gr.State(value=None)  # Estado para o dataframe\n",
        "\n",
        "    # Conectando funções aos componentes\n",
        "    input_arquivo.change(fn=carregar_dados,\n",
        "                         inputs=[input_arquivo, df_estado],\n",
        "                         outputs=[upload_status, df_estado])\n",
        "\n",
        "    botao_submeter.click(fn=processar_pergunta,\n",
        "                         inputs=[input_pergunta, df_estado],\n",
        "                         outputs=output_resposta)\n",
        "\n",
        "app.launch(debug=True)"
      ],
      "metadata": {
        "id": "dLTLNqrZ7csZ"
      },
      "execution_count": null,
      "outputs": []
    },
    {
      "cell_type": "markdown",
      "source": [
        "##**Armazenando o histórico de perguntas e respostas**"
      ],
      "metadata": {
        "id": "R7gFsEVl7dFW"
      }
    },
    {
      "cell_type": "code",
      "source": [
        "pip install fpdf -q"
      ],
      "metadata": {
        "id": "tZGRGDrq7e-a"
      },
      "execution_count": null,
      "outputs": []
    },
    {
      "cell_type": "code",
      "source": [
        "from fpdf import FPDF\n",
        "from datetime import datetime\n",
        "\n",
        "# Função para carregar os dados\n",
        "def carregar_dados(caminho_arquivo, df_estado):\n",
        "    if caminho_arquivo is None or caminho_arquivo == \"\":\n",
        "        return \"Por favor, faça o upload de um arquivo CSV para analisar.\", df_estado\n",
        "    try:\n",
        "        df = pd.read_csv(caminho_arquivo)\n",
        "        return \"Arquivo carregado com sucesso!\", df\n",
        "    except Exception as e:\n",
        "        return f\"Erro ao carregar arquivo: {str(e)}\", df_estado\n",
        "\n",
        "# Função para processar a pergunta\n",
        "def processar_pergunta(pergunta, df_estado):\n",
        "    if df_estado is not None and pergunta:\n",
        "        qp = pipeline_consulta(df_estado)\n",
        "        resposta = qp.run(query_str=pergunta)\n",
        "        return resposta.message.content\n",
        "    return \"\"\n",
        "\n",
        "# Função para adicionar a pergunta e a resposta ao historico\n",
        "def add_historico(pergunta, resposta, historico_estado):\n",
        "    if pergunta and resposta:\n",
        "        historico_estado.append((pergunta, resposta))\n",
        "        return historico_estado\n",
        "\n",
        "# Função para gerar o PDF\n",
        "def gerar_pdf(historico_estado):\n",
        "    if not historico_estado:\n",
        "        return \"Nenhum dado para adicionar ao PDF.\", None\n",
        "\n",
        "    # Gerar nome de arquivo com timestamp\n",
        "    timestamp = datetime.now().strftime(\"%Y%m%d%H%M%S\")\n",
        "    caminho_pdf = f\"relatorio_perguntas_respostas_{timestamp}.pdf\"\n",
        "\n",
        "    pdf = FPDF()\n",
        "    pdf.add_page()\n",
        "    pdf.set_auto_page_break(auto=True, margin=15)\n",
        "\n",
        "    for pergunta, resposta in historico_estado:\n",
        "        pdf.set_font(\"Arial\", \"B\", 14)\n",
        "        pdf.multi_cell(0, 8, txt=pergunta)\n",
        "        pdf.ln(2)\n",
        "        pdf.set_font(\"Arial\", \"\", 12)\n",
        "        pdf.multi_cell(0, 8, txt=resposta)\n",
        "        pdf.ln(6)\n",
        "    pdf.output(caminho_pdf)\n",
        "    return caminho_pdf\n",
        "\n",
        "\n",
        "# Criação da interface gradio\n",
        "with gr.Blocks() as app:\n",
        "    # Campo de entrada de arquivos\n",
        "    input_arquivo = gr.File(file_count=\"single\", type=\"filepath\", label=\"Upload CSV\")\n",
        "\n",
        "    # Status de upload\n",
        "    upload_status = gr.Textbox(label=\"Status do Upload:\")\n",
        "\n",
        "    # Campo de entrada de texto\n",
        "    input_pergunta = gr.Textbox(label=\"Digite sua pergunta sobre os dados\")\n",
        "\n",
        "    # Botão de envio posicionado após a pergunta\n",
        "    botao_submeter = gr.Button(\"Enviar\")\n",
        "\n",
        "    # Componente de resposta\n",
        "    output_resposta = gr.Textbox(label=\"Resposta\")\n",
        "\n",
        "    # Componente de download\n",
        "    arquivo_pdf = gr.File(label=\"Download do PDF\")\n",
        "\n",
        "    # Gerenciamento de estados\n",
        "    df_estado = gr.State(value=None)  # Estado para o dataframe\n",
        "    historico_estado = gr.State(value=[])  # Estado para o histórico\n",
        "\n",
        "    # Conectando funções aos componentes\n",
        "    input_arquivo.change(fn=carregar_dados,\n",
        "                         inputs=[input_arquivo, df_estado],\n",
        "                         outputs=[upload_status, df_estado])\n",
        "\n",
        "    botao_submeter.click(fn=processar_pergunta,\n",
        "                         inputs=[input_pergunta, df_estado],\n",
        "                         outputs=output_resposta)\n",
        "\n",
        "    app.launch(debug=True)"
      ],
      "metadata": {
        "id": "_wCCMCHp8Tdc"
      },
      "execution_count": null,
      "outputs": []
    },
    {
      "cell_type": "markdown",
      "source": [
        "##**Obtendo o relatório**"
      ],
      "metadata": {
        "id": "O6IKJh7s7ftf"
      }
    },
    {
      "cell_type": "code",
      "source": [
        "from fpdf import FPDF\n",
        "from datetime import datetime\n",
        "\n",
        "# Função para carregar os dados\n",
        "def carregar_dados(caminho_arquivo, df_estado):\n",
        "    if caminho_arquivo is None or caminho_arquivo == \"\":\n",
        "        return \"Por favor, faça o upload de um arquivo CSV para analisar.\", df_estado\n",
        "    try:\n",
        "        df = pd.read_csv(caminho_arquivo)\n",
        "        return \"Arquivo carregado com sucesso!\", df\n",
        "    except Exception as e:\n",
        "        return f\"Erro ao carregar arquivo: {str(e)}\", df_estado\n",
        "\n",
        "# Função para processar a pergunta\n",
        "def processar_pergunta(pergunta, df_estado):\n",
        "    if df_estado is not None and pergunta:\n",
        "        qp = pipeline_consulta(df_estado)\n",
        "        resposta = qp.run(query_str=pergunta)\n",
        "        return resposta.message.content\n",
        "    return \"\"\n",
        "\n",
        "# Função para adicionar a pergunta e a resposta ao historico\n",
        "def add_historico(pergunta, resposta, historico_estado):\n",
        "    if pergunta and resposta:\n",
        "        historico_estado.append((pergunta, resposta))\n",
        "        return historico_estado\n",
        "\n",
        "# Função para gerar o PDF\n",
        "def gerar_pdf(historico_estado):\n",
        "    if not historico_estado:\n",
        "        return \"Nenhum dado para adicionar ao PDF.\", None\n",
        "\n",
        "    # Gerar nome de arquivo com timestamp\n",
        "    timestamp = datetime.now().strftime(\"%Y%m%d%H%M%S\")\n",
        "    caminho_pdf = f\"relatorio_perguntas_respostas_{timestamp}.pdf\"\n",
        "\n",
        "    pdf = FPDF()\n",
        "    pdf.add_page()\n",
        "    pdf.set_auto_page_break(auto=True, margin=15)\n",
        "\n",
        "    for pergunta, resposta in historico_estado:\n",
        "        pdf.set_font(\"Arial\", 'B', 14)\n",
        "        pdf.multi_cell(0, 8, txt=pergunta)\n",
        "        pdf.ln(2)\n",
        "        pdf.set_font(\"Arial\", '', 12)\n",
        "        pdf.multi_cell(0, 8, txt=resposta)\n",
        "        pdf.ln(6)\n",
        "\n",
        "    pdf.output(caminho_pdf)\n",
        "    return caminho_pdf\n",
        "\n",
        "# Criação da interface gradio\n",
        "with gr.Blocks() as app:\n",
        "    # Campo de entrada de arquivos\n",
        "    input_arquivo = gr.File(file_count=\"single\", type=\"filepath\", label=\"Upload CSV\")\n",
        "\n",
        "    # Status de upload\n",
        "    upload_status = gr.Textbox(label=\"Status do Upload:\")\n",
        "\n",
        "    # Campo de entrada de texto\n",
        "    input_pergunta = gr.Textbox(label=\"Digite sua pergunta sobre os dados\")\n",
        "\n",
        "    # Botão de envio posicionado após a pergunta\n",
        "    botao_submeter = gr.Button(\"Enviar\")\n",
        "\n",
        "    # Componente de resposta\n",
        "    output_resposta = gr.Textbox(label=\"Resposta\")\n",
        "\n",
        "    # Botão para adicionar a pergunta e a resposta ao historico\n",
        "    botao_add_pdf = gr.Button(\"Adicionar ao histórico do PDF\")\n",
        "\n",
        "    # Botão para gerar o PDF\n",
        "    botao_gerar_pdf = gr.Button(\"Gerar PDF\")\n",
        "\n",
        "    # Componente de download\n",
        "    arquivo_pdf = gr.File(label=\"Download do PDF\")\n",
        "\n",
        "    # Gerenciamento de estados\n",
        "    df_estado = gr.State(value=None)  # Estado para o dataframe\n",
        "    historico_estado = gr.State(value=[])  # Estado para o histórico\n",
        "\n",
        "    # Conectando funções aos componentes\n",
        "    input_arquivo.change(fn=carregar_dados,\n",
        "                         inputs=[input_arquivo, df_estado],\n",
        "                         outputs=[upload_status, df_estado])\n",
        "\n",
        "    botao_submeter.click(fn=processar_pergunta,\n",
        "                         inputs=[input_pergunta, df_estado],\n",
        "                         outputs=output_resposta)\n",
        "\n",
        "    botao_add_pdf.click(fn=add_historico,\n",
        "                        inputs=[input_pergunta, output_resposta, historico_estado],\n",
        "                        outputs=historico_estado)\n",
        "\n",
        "    botao_gerar_pdf.click(fn=gerar_pdf,\n",
        "                          inputs=[historico_estado],\n",
        "                          outputs=arquivo_pdf)\n",
        "\n",
        "    app.launch(debug=True)"
      ],
      "metadata": {
        "id": "cVcQ6XLk7iP5"
      },
      "execution_count": null,
      "outputs": []
    }
  ]
}