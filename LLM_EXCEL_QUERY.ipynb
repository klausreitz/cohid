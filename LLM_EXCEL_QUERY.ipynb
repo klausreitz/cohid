{
  "nbformat": 4,
  "nbformat_minor": 0,
  "metadata": {
    "colab": {
      "provenance": [],
      "authorship_tag": "ABX9TyMkxuCRAbLLtEaggZI2Qfwu",
      "include_colab_link": true
    },
    "kernelspec": {
      "name": "python3",
      "display_name": "Python 3"
    },
    "language_info": {
      "name": "python"
    }
  },
  "cells": [
    {
      "cell_type": "markdown",
      "metadata": {
        "id": "view-in-github",
        "colab_type": "text"
      },
      "source": [
        "<a href=\"https://colab.research.google.com/github/klausreitz/cohid/blob/main/LLM_EXCEL_QUERY.ipynb\" target=\"_parent\"><img src=\"https://colab.research.google.com/assets/colab-badge.svg\" alt=\"Open In Colab\"/></a>"
      ]
    },
    {
      "cell_type": "code",
      "execution_count": 1,
      "metadata": {
        "id": "aY5WPCdLnFf7"
      },
      "outputs": [],
      "source": [
        "url = 'https://raw.githubusercontent.com/alura-cursos/llamaIndex_pandas_query/refs/heads/main/Dados/vendas.csv'"
      ]
    },
    {
      "cell_type": "code",
      "source": [
        "import pandas as pd\n"
      ],
      "metadata": {
        "id": "51INkvcMoYvk"
      },
      "execution_count": 2,
      "outputs": []
    },
    {
      "cell_type": "code",
      "source": [
        "df = pd.read_csv(url)"
      ],
      "metadata": {
        "id": "VSOdrcf2onaZ"
      },
      "execution_count": 3,
      "outputs": []
    },
    {
      "cell_type": "code",
      "source": [
        "df.head()"
      ],
      "metadata": {
        "colab": {
          "base_uri": "https://localhost:8080/",
          "height": 313
        },
        "id": "dBb62rS6pGNm",
        "outputId": "61aaf7b2-9ff6-4888-ca27-a00ce5bc375b"
      },
      "execution_count": 4,
      "outputs": [
        {
          "output_type": "execute_result",
          "data": {
            "text/plain": [
              "     ID_compra filial       cidade tipo_cliente     genero       tipo_produto  \\\n",
              "0  750-67-8428      A  Santo André       Membro   Feminino     Saúde e Beleza   \n",
              "1  226-31-3081      C  São Caetano       Normal   Feminino        Eletrônicos   \n",
              "2  631-41-3108      A  Santo André       Normal  Masculino               Casa   \n",
              "3  123-19-1176      A  Santo André       Membro  Masculino     Saúde e Beleza   \n",
              "4  373-73-7910      A  Santo André       Normal  Masculino  Esportes e Viagem   \n",
              "\n",
              "   preco_unitario  quantidade  imposto_5%     total        data      hora  \\\n",
              "0           74.69           7     26.1415  548.9715  2024-01-05  13:08:00   \n",
              "1           15.28           5      3.8200   80.2200  2024-03-08  10:29:00   \n",
              "2           46.33           7     16.2155  340.5255  2024-03-03  13:23:00   \n",
              "3           58.22           8     23.2880  489.0480  2024-01-27  20:33:00   \n",
              "4           86.31           7     30.2085  634.3785  2024-02-08  10:37:00   \n",
              "\n",
              "     forma_pagamento  avaliacao  \n",
              "0   Carteira Digital        9.1  \n",
              "1           Dinheiro        9.6  \n",
              "2  Cartão de Crédito        7.4  \n",
              "3   Carteira Digital        8.4  \n",
              "4   Carteira Digital        5.3  "
            ],
            "text/html": [
              "\n",
              "  <div id=\"df-7afcc23b-30b2-444c-8893-07155139c582\" class=\"colab-df-container\">\n",
              "    <div>\n",
              "<style scoped>\n",
              "    .dataframe tbody tr th:only-of-type {\n",
              "        vertical-align: middle;\n",
              "    }\n",
              "\n",
              "    .dataframe tbody tr th {\n",
              "        vertical-align: top;\n",
              "    }\n",
              "\n",
              "    .dataframe thead th {\n",
              "        text-align: right;\n",
              "    }\n",
              "</style>\n",
              "<table border=\"1\" class=\"dataframe\">\n",
              "  <thead>\n",
              "    <tr style=\"text-align: right;\">\n",
              "      <th></th>\n",
              "      <th>ID_compra</th>\n",
              "      <th>filial</th>\n",
              "      <th>cidade</th>\n",
              "      <th>tipo_cliente</th>\n",
              "      <th>genero</th>\n",
              "      <th>tipo_produto</th>\n",
              "      <th>preco_unitario</th>\n",
              "      <th>quantidade</th>\n",
              "      <th>imposto_5%</th>\n",
              "      <th>total</th>\n",
              "      <th>data</th>\n",
              "      <th>hora</th>\n",
              "      <th>forma_pagamento</th>\n",
              "      <th>avaliacao</th>\n",
              "    </tr>\n",
              "  </thead>\n",
              "  <tbody>\n",
              "    <tr>\n",
              "      <th>0</th>\n",
              "      <td>750-67-8428</td>\n",
              "      <td>A</td>\n",
              "      <td>Santo André</td>\n",
              "      <td>Membro</td>\n",
              "      <td>Feminino</td>\n",
              "      <td>Saúde e Beleza</td>\n",
              "      <td>74.69</td>\n",
              "      <td>7</td>\n",
              "      <td>26.1415</td>\n",
              "      <td>548.9715</td>\n",
              "      <td>2024-01-05</td>\n",
              "      <td>13:08:00</td>\n",
              "      <td>Carteira Digital</td>\n",
              "      <td>9.1</td>\n",
              "    </tr>\n",
              "    <tr>\n",
              "      <th>1</th>\n",
              "      <td>226-31-3081</td>\n",
              "      <td>C</td>\n",
              "      <td>São Caetano</td>\n",
              "      <td>Normal</td>\n",
              "      <td>Feminino</td>\n",
              "      <td>Eletrônicos</td>\n",
              "      <td>15.28</td>\n",
              "      <td>5</td>\n",
              "      <td>3.8200</td>\n",
              "      <td>80.2200</td>\n",
              "      <td>2024-03-08</td>\n",
              "      <td>10:29:00</td>\n",
              "      <td>Dinheiro</td>\n",
              "      <td>9.6</td>\n",
              "    </tr>\n",
              "    <tr>\n",
              "      <th>2</th>\n",
              "      <td>631-41-3108</td>\n",
              "      <td>A</td>\n",
              "      <td>Santo André</td>\n",
              "      <td>Normal</td>\n",
              "      <td>Masculino</td>\n",
              "      <td>Casa</td>\n",
              "      <td>46.33</td>\n",
              "      <td>7</td>\n",
              "      <td>16.2155</td>\n",
              "      <td>340.5255</td>\n",
              "      <td>2024-03-03</td>\n",
              "      <td>13:23:00</td>\n",
              "      <td>Cartão de Crédito</td>\n",
              "      <td>7.4</td>\n",
              "    </tr>\n",
              "    <tr>\n",
              "      <th>3</th>\n",
              "      <td>123-19-1176</td>\n",
              "      <td>A</td>\n",
              "      <td>Santo André</td>\n",
              "      <td>Membro</td>\n",
              "      <td>Masculino</td>\n",
              "      <td>Saúde e Beleza</td>\n",
              "      <td>58.22</td>\n",
              "      <td>8</td>\n",
              "      <td>23.2880</td>\n",
              "      <td>489.0480</td>\n",
              "      <td>2024-01-27</td>\n",
              "      <td>20:33:00</td>\n",
              "      <td>Carteira Digital</td>\n",
              "      <td>8.4</td>\n",
              "    </tr>\n",
              "    <tr>\n",
              "      <th>4</th>\n",
              "      <td>373-73-7910</td>\n",
              "      <td>A</td>\n",
              "      <td>Santo André</td>\n",
              "      <td>Normal</td>\n",
              "      <td>Masculino</td>\n",
              "      <td>Esportes e Viagem</td>\n",
              "      <td>86.31</td>\n",
              "      <td>7</td>\n",
              "      <td>30.2085</td>\n",
              "      <td>634.3785</td>\n",
              "      <td>2024-02-08</td>\n",
              "      <td>10:37:00</td>\n",
              "      <td>Carteira Digital</td>\n",
              "      <td>5.3</td>\n",
              "    </tr>\n",
              "  </tbody>\n",
              "</table>\n",
              "</div>\n",
              "    <div class=\"colab-df-buttons\">\n",
              "\n",
              "  <div class=\"colab-df-container\">\n",
              "    <button class=\"colab-df-convert\" onclick=\"convertToInteractive('df-7afcc23b-30b2-444c-8893-07155139c582')\"\n",
              "            title=\"Convert this dataframe to an interactive table.\"\n",
              "            style=\"display:none;\">\n",
              "\n",
              "  <svg xmlns=\"http://www.w3.org/2000/svg\" height=\"24px\" viewBox=\"0 -960 960 960\">\n",
              "    <path d=\"M120-120v-720h720v720H120Zm60-500h600v-160H180v160Zm220 220h160v-160H400v160Zm0 220h160v-160H400v160ZM180-400h160v-160H180v160Zm440 0h160v-160H620v160ZM180-180h160v-160H180v160Zm440 0h160v-160H620v160Z\"/>\n",
              "  </svg>\n",
              "    </button>\n",
              "\n",
              "  <style>\n",
              "    .colab-df-container {\n",
              "      display:flex;\n",
              "      gap: 12px;\n",
              "    }\n",
              "\n",
              "    .colab-df-convert {\n",
              "      background-color: #E8F0FE;\n",
              "      border: none;\n",
              "      border-radius: 50%;\n",
              "      cursor: pointer;\n",
              "      display: none;\n",
              "      fill: #1967D2;\n",
              "      height: 32px;\n",
              "      padding: 0 0 0 0;\n",
              "      width: 32px;\n",
              "    }\n",
              "\n",
              "    .colab-df-convert:hover {\n",
              "      background-color: #E2EBFA;\n",
              "      box-shadow: 0px 1px 2px rgba(60, 64, 67, 0.3), 0px 1px 3px 1px rgba(60, 64, 67, 0.15);\n",
              "      fill: #174EA6;\n",
              "    }\n",
              "\n",
              "    .colab-df-buttons div {\n",
              "      margin-bottom: 4px;\n",
              "    }\n",
              "\n",
              "    [theme=dark] .colab-df-convert {\n",
              "      background-color: #3B4455;\n",
              "      fill: #D2E3FC;\n",
              "    }\n",
              "\n",
              "    [theme=dark] .colab-df-convert:hover {\n",
              "      background-color: #434B5C;\n",
              "      box-shadow: 0px 1px 3px 1px rgba(0, 0, 0, 0.15);\n",
              "      filter: drop-shadow(0px 1px 2px rgba(0, 0, 0, 0.3));\n",
              "      fill: #FFFFFF;\n",
              "    }\n",
              "  </style>\n",
              "\n",
              "    <script>\n",
              "      const buttonEl =\n",
              "        document.querySelector('#df-7afcc23b-30b2-444c-8893-07155139c582 button.colab-df-convert');\n",
              "      buttonEl.style.display =\n",
              "        google.colab.kernel.accessAllowed ? 'block' : 'none';\n",
              "\n",
              "      async function convertToInteractive(key) {\n",
              "        const element = document.querySelector('#df-7afcc23b-30b2-444c-8893-07155139c582');\n",
              "        const dataTable =\n",
              "          await google.colab.kernel.invokeFunction('convertToInteractive',\n",
              "                                                    [key], {});\n",
              "        if (!dataTable) return;\n",
              "\n",
              "        const docLinkHtml = 'Like what you see? Visit the ' +\n",
              "          '<a target=\"_blank\" href=https://colab.research.google.com/notebooks/data_table.ipynb>data table notebook</a>'\n",
              "          + ' to learn more about interactive tables.';\n",
              "        element.innerHTML = '';\n",
              "        dataTable['output_type'] = 'display_data';\n",
              "        await google.colab.output.renderOutput(dataTable, element);\n",
              "        const docLink = document.createElement('div');\n",
              "        docLink.innerHTML = docLinkHtml;\n",
              "        element.appendChild(docLink);\n",
              "      }\n",
              "    </script>\n",
              "  </div>\n",
              "\n",
              "\n",
              "    <div id=\"df-4a26bc4f-c917-442a-a8a8-14f666c684ba\">\n",
              "      <button class=\"colab-df-quickchart\" onclick=\"quickchart('df-4a26bc4f-c917-442a-a8a8-14f666c684ba')\"\n",
              "                title=\"Suggest charts\"\n",
              "                style=\"display:none;\">\n",
              "\n",
              "<svg xmlns=\"http://www.w3.org/2000/svg\" height=\"24px\"viewBox=\"0 0 24 24\"\n",
              "     width=\"24px\">\n",
              "    <g>\n",
              "        <path d=\"M19 3H5c-1.1 0-2 .9-2 2v14c0 1.1.9 2 2 2h14c1.1 0 2-.9 2-2V5c0-1.1-.9-2-2-2zM9 17H7v-7h2v7zm4 0h-2V7h2v10zm4 0h-2v-4h2v4z\"/>\n",
              "    </g>\n",
              "</svg>\n",
              "      </button>\n",
              "\n",
              "<style>\n",
              "  .colab-df-quickchart {\n",
              "      --bg-color: #E8F0FE;\n",
              "      --fill-color: #1967D2;\n",
              "      --hover-bg-color: #E2EBFA;\n",
              "      --hover-fill-color: #174EA6;\n",
              "      --disabled-fill-color: #AAA;\n",
              "      --disabled-bg-color: #DDD;\n",
              "  }\n",
              "\n",
              "  [theme=dark] .colab-df-quickchart {\n",
              "      --bg-color: #3B4455;\n",
              "      --fill-color: #D2E3FC;\n",
              "      --hover-bg-color: #434B5C;\n",
              "      --hover-fill-color: #FFFFFF;\n",
              "      --disabled-bg-color: #3B4455;\n",
              "      --disabled-fill-color: #666;\n",
              "  }\n",
              "\n",
              "  .colab-df-quickchart {\n",
              "    background-color: var(--bg-color);\n",
              "    border: none;\n",
              "    border-radius: 50%;\n",
              "    cursor: pointer;\n",
              "    display: none;\n",
              "    fill: var(--fill-color);\n",
              "    height: 32px;\n",
              "    padding: 0;\n",
              "    width: 32px;\n",
              "  }\n",
              "\n",
              "  .colab-df-quickchart:hover {\n",
              "    background-color: var(--hover-bg-color);\n",
              "    box-shadow: 0 1px 2px rgba(60, 64, 67, 0.3), 0 1px 3px 1px rgba(60, 64, 67, 0.15);\n",
              "    fill: var(--button-hover-fill-color);\n",
              "  }\n",
              "\n",
              "  .colab-df-quickchart-complete:disabled,\n",
              "  .colab-df-quickchart-complete:disabled:hover {\n",
              "    background-color: var(--disabled-bg-color);\n",
              "    fill: var(--disabled-fill-color);\n",
              "    box-shadow: none;\n",
              "  }\n",
              "\n",
              "  .colab-df-spinner {\n",
              "    border: 2px solid var(--fill-color);\n",
              "    border-color: transparent;\n",
              "    border-bottom-color: var(--fill-color);\n",
              "    animation:\n",
              "      spin 1s steps(1) infinite;\n",
              "  }\n",
              "\n",
              "  @keyframes spin {\n",
              "    0% {\n",
              "      border-color: transparent;\n",
              "      border-bottom-color: var(--fill-color);\n",
              "      border-left-color: var(--fill-color);\n",
              "    }\n",
              "    20% {\n",
              "      border-color: transparent;\n",
              "      border-left-color: var(--fill-color);\n",
              "      border-top-color: var(--fill-color);\n",
              "    }\n",
              "    30% {\n",
              "      border-color: transparent;\n",
              "      border-left-color: var(--fill-color);\n",
              "      border-top-color: var(--fill-color);\n",
              "      border-right-color: var(--fill-color);\n",
              "    }\n",
              "    40% {\n",
              "      border-color: transparent;\n",
              "      border-right-color: var(--fill-color);\n",
              "      border-top-color: var(--fill-color);\n",
              "    }\n",
              "    60% {\n",
              "      border-color: transparent;\n",
              "      border-right-color: var(--fill-color);\n",
              "    }\n",
              "    80% {\n",
              "      border-color: transparent;\n",
              "      border-right-color: var(--fill-color);\n",
              "      border-bottom-color: var(--fill-color);\n",
              "    }\n",
              "    90% {\n",
              "      border-color: transparent;\n",
              "      border-bottom-color: var(--fill-color);\n",
              "    }\n",
              "  }\n",
              "</style>\n",
              "\n",
              "      <script>\n",
              "        async function quickchart(key) {\n",
              "          const quickchartButtonEl =\n",
              "            document.querySelector('#' + key + ' button');\n",
              "          quickchartButtonEl.disabled = true;  // To prevent multiple clicks.\n",
              "          quickchartButtonEl.classList.add('colab-df-spinner');\n",
              "          try {\n",
              "            const charts = await google.colab.kernel.invokeFunction(\n",
              "                'suggestCharts', [key], {});\n",
              "          } catch (error) {\n",
              "            console.error('Error during call to suggestCharts:', error);\n",
              "          }\n",
              "          quickchartButtonEl.classList.remove('colab-df-spinner');\n",
              "          quickchartButtonEl.classList.add('colab-df-quickchart-complete');\n",
              "        }\n",
              "        (() => {\n",
              "          let quickchartButtonEl =\n",
              "            document.querySelector('#df-4a26bc4f-c917-442a-a8a8-14f666c684ba button');\n",
              "          quickchartButtonEl.style.display =\n",
              "            google.colab.kernel.accessAllowed ? 'block' : 'none';\n",
              "        })();\n",
              "      </script>\n",
              "    </div>\n",
              "\n",
              "    </div>\n",
              "  </div>\n"
            ],
            "application/vnd.google.colaboratory.intrinsic+json": {
              "type": "dataframe",
              "variable_name": "df",
              "summary": "{\n  \"name\": \"df\",\n  \"rows\": 1000,\n  \"fields\": [\n    {\n      \"column\": \"ID_compra\",\n      \"properties\": {\n        \"dtype\": \"string\",\n        \"num_unique_values\": 1000,\n        \"samples\": [\n          \"451-28-5717\",\n          \"137-63-5492\",\n          \"733-29-1227\"\n        ],\n        \"semantic_type\": \"\",\n        \"description\": \"\"\n      }\n    },\n    {\n      \"column\": \"filial\",\n      \"properties\": {\n        \"dtype\": \"category\",\n        \"num_unique_values\": 3,\n        \"samples\": [\n          \"A\",\n          \"C\",\n          \"B\"\n        ],\n        \"semantic_type\": \"\",\n        \"description\": \"\"\n      }\n    },\n    {\n      \"column\": \"cidade\",\n      \"properties\": {\n        \"dtype\": \"category\",\n        \"num_unique_values\": 3,\n        \"samples\": [\n          \"Santo Andr\\u00e9\",\n          \"S\\u00e3o Caetano\",\n          \"S\\u00e3o Bernardo do Campo\"\n        ],\n        \"semantic_type\": \"\",\n        \"description\": \"\"\n      }\n    },\n    {\n      \"column\": \"tipo_cliente\",\n      \"properties\": {\n        \"dtype\": \"category\",\n        \"num_unique_values\": 2,\n        \"samples\": [\n          \"Normal\",\n          \"Membro\"\n        ],\n        \"semantic_type\": \"\",\n        \"description\": \"\"\n      }\n    },\n    {\n      \"column\": \"genero\",\n      \"properties\": {\n        \"dtype\": \"category\",\n        \"num_unique_values\": 2,\n        \"samples\": [\n          \"Masculino\",\n          \"Feminino\"\n        ],\n        \"semantic_type\": \"\",\n        \"description\": \"\"\n      }\n    },\n    {\n      \"column\": \"tipo_produto\",\n      \"properties\": {\n        \"dtype\": \"category\",\n        \"num_unique_values\": 6,\n        \"samples\": [\n          \"Sa\\u00fade e Beleza\",\n          \"Eletr\\u00f4nicos\"\n        ],\n        \"semantic_type\": \"\",\n        \"description\": \"\"\n      }\n    },\n    {\n      \"column\": \"preco_unitario\",\n      \"properties\": {\n        \"dtype\": \"number\",\n        \"std\": 26.494628347919768,\n        \"min\": 10.08,\n        \"max\": 99.96,\n        \"num_unique_values\": 943,\n        \"samples\": [\n          12.45,\n          70.74\n        ],\n        \"semantic_type\": \"\",\n        \"description\": \"\"\n      }\n    },\n    {\n      \"column\": \"quantidade\",\n      \"properties\": {\n        \"dtype\": \"number\",\n        \"std\": 2,\n        \"min\": 1,\n        \"max\": 10,\n        \"num_unique_values\": 10,\n        \"samples\": [\n          1,\n          5\n        ],\n        \"semantic_type\": \"\",\n        \"description\": \"\"\n      }\n    },\n    {\n      \"column\": \"imposto_5%\",\n      \"properties\": {\n        \"dtype\": \"number\",\n        \"std\": 11.708825480998659,\n        \"min\": 0.5085,\n        \"max\": 49.65,\n        \"num_unique_values\": 990,\n        \"samples\": [\n          0.914,\n          2.348\n        ],\n        \"semantic_type\": \"\",\n        \"description\": \"\"\n      }\n    },\n    {\n      \"column\": \"total\",\n      \"properties\": {\n        \"dtype\": \"number\",\n        \"std\": 245.88533510097207,\n        \"min\": 10.6785,\n        \"max\": 1042.65,\n        \"num_unique_values\": 990,\n        \"samples\": [\n          19.194,\n          49.308\n        ],\n        \"semantic_type\": \"\",\n        \"description\": \"\"\n      }\n    },\n    {\n      \"column\": \"data\",\n      \"properties\": {\n        \"dtype\": \"object\",\n        \"num_unique_values\": 89,\n        \"samples\": [\n          \"2024-02-14\",\n          \"2024-01-26\"\n        ],\n        \"semantic_type\": \"\",\n        \"description\": \"\"\n      }\n    },\n    {\n      \"column\": \"hora\",\n      \"properties\": {\n        \"dtype\": \"object\",\n        \"num_unique_values\": 506,\n        \"samples\": [\n          \"10:13:00\",\n          \"11:21:00\"\n        ],\n        \"semantic_type\": \"\",\n        \"description\": \"\"\n      }\n    },\n    {\n      \"column\": \"forma_pagamento\",\n      \"properties\": {\n        \"dtype\": \"category\",\n        \"num_unique_values\": 3,\n        \"samples\": [\n          \"Carteira Digital\",\n          \"Dinheiro\"\n        ],\n        \"semantic_type\": \"\",\n        \"description\": \"\"\n      }\n    },\n    {\n      \"column\": \"avaliacao\",\n      \"properties\": {\n        \"dtype\": \"number\",\n        \"std\": 1.718580294379123,\n        \"min\": 4.0,\n        \"max\": 10.0,\n        \"num_unique_values\": 61,\n        \"samples\": [\n          9.1,\n          4.1\n        ],\n        \"semantic_type\": \"\",\n        \"description\": \"\"\n      }\n    }\n  ]\n}"
            }
          },
          "metadata": {},
          "execution_count": 4
        }
      ]
    },
    {
      "cell_type": "code",
      "source": [
        "df.info()"
      ],
      "metadata": {
        "colab": {
          "base_uri": "https://localhost:8080/"
        },
        "id": "q15NGINspN1M",
        "outputId": "338e6701-69fa-4963-e236-54b50dc18139"
      },
      "execution_count": 5,
      "outputs": [
        {
          "output_type": "stream",
          "name": "stdout",
          "text": [
            "<class 'pandas.core.frame.DataFrame'>\n",
            "RangeIndex: 1000 entries, 0 to 999\n",
            "Data columns (total 14 columns):\n",
            " #   Column           Non-Null Count  Dtype  \n",
            "---  ------           --------------  -----  \n",
            " 0   ID_compra        1000 non-null   object \n",
            " 1   filial           1000 non-null   object \n",
            " 2   cidade           1000 non-null   object \n",
            " 3   tipo_cliente     1000 non-null   object \n",
            " 4   genero           1000 non-null   object \n",
            " 5   tipo_produto     1000 non-null   object \n",
            " 6   preco_unitario   1000 non-null   float64\n",
            " 7   quantidade       1000 non-null   int64  \n",
            " 8   imposto_5%       1000 non-null   float64\n",
            " 9   total            1000 non-null   float64\n",
            " 10  data             1000 non-null   object \n",
            " 11  hora             1000 non-null   object \n",
            " 12  forma_pagamento  1000 non-null   object \n",
            " 13  avaliacao        1000 non-null   float64\n",
            "dtypes: float64(4), int64(1), object(9)\n",
            "memory usage: 109.5+ KB\n"
          ]
        }
      ]
    },
    {
      "cell_type": "code",
      "source": [
        "from google.colab import userdata\n",
        "key = userdata.get('GROQ_API_KEY')"
      ],
      "metadata": {
        "id": "iRdNtcJKCurG"
      },
      "execution_count": 6,
      "outputs": []
    },
    {
      "cell_type": "code",
      "source": [
        "!pip install llama-index-llms-groq -q"
      ],
      "metadata": {
        "id": "sgKgYwRzF-vY"
      },
      "execution_count": 7,
      "outputs": []
    },
    {
      "cell_type": "code",
      "source": [
        "!pip install llama-index llama-index-experimental -q"
      ],
      "metadata": {
        "id": "Ax7ZAVL1uovr"
      },
      "execution_count": 8,
      "outputs": []
    },
    {
      "cell_type": "code",
      "source": [
        "from llama_index.core import Settings\n",
        "from llama_index.llms.groq import Groq\n",
        "\n",
        "Settings.llm = Groq(model='llama-3.3-70b-versatile', api_key=key)"
      ],
      "metadata": {
        "id": "9fWRxXpeGdNq"
      },
      "execution_count": 9,
      "outputs": []
    },
    {
      "cell_type": "code",
      "source": [
        "from llama_index.experimental.query_engine import PandasQueryEngine"
      ],
      "metadata": {
        "id": "Ohzi7zUTJPCb"
      },
      "execution_count": 10,
      "outputs": []
    },
    {
      "cell_type": "code",
      "source": [
        "query_engine = PandasQueryEngine(df=df, verbose=True)"
      ],
      "metadata": {
        "id": "PI6AjtvCIHpZ"
      },
      "execution_count": 11,
      "outputs": []
    },
    {
      "cell_type": "code",
      "source": [
        "df.groupby('filial')['forma_pagamento'].apply(lambda x: x.mode().iloc[0])"
      ],
      "metadata": {
        "colab": {
          "base_uri": "https://localhost:8080/",
          "height": 209
        },
        "id": "6myp1diNWNlj",
        "outputId": "4a5f900b-da36-42e3-8b96-82c1108e0c77"
      },
      "execution_count": 12,
      "outputs": [
        {
          "output_type": "execute_result",
          "data": {
            "text/plain": [
              "filial\n",
              "A    Carteira Digital\n",
              "B    Carteira Digital\n",
              "C            Dinheiro\n",
              "Name: forma_pagamento, dtype: object"
            ],
            "text/html": [
              "<div>\n",
              "<style scoped>\n",
              "    .dataframe tbody tr th:only-of-type {\n",
              "        vertical-align: middle;\n",
              "    }\n",
              "\n",
              "    .dataframe tbody tr th {\n",
              "        vertical-align: top;\n",
              "    }\n",
              "\n",
              "    .dataframe thead th {\n",
              "        text-align: right;\n",
              "    }\n",
              "</style>\n",
              "<table border=\"1\" class=\"dataframe\">\n",
              "  <thead>\n",
              "    <tr style=\"text-align: right;\">\n",
              "      <th></th>\n",
              "      <th>forma_pagamento</th>\n",
              "    </tr>\n",
              "    <tr>\n",
              "      <th>filial</th>\n",
              "      <th></th>\n",
              "    </tr>\n",
              "  </thead>\n",
              "  <tbody>\n",
              "    <tr>\n",
              "      <th>A</th>\n",
              "      <td>Carteira Digital</td>\n",
              "    </tr>\n",
              "    <tr>\n",
              "      <th>B</th>\n",
              "      <td>Carteira Digital</td>\n",
              "    </tr>\n",
              "    <tr>\n",
              "      <th>C</th>\n",
              "      <td>Dinheiro</td>\n",
              "    </tr>\n",
              "  </tbody>\n",
              "</table>\n",
              "</div><br><label><b>dtype:</b> object</label>"
            ]
          },
          "metadata": {},
          "execution_count": 12
        }
      ]
    },
    {
      "cell_type": "code",
      "source": [
        "df.groupby('filial')['genero'].apply(lambda x: x.mode().iloc[0])"
      ],
      "metadata": {
        "colab": {
          "base_uri": "https://localhost:8080/",
          "height": 209
        },
        "id": "EyL8Cf_8c9Gc",
        "outputId": "91f036a2-3870-4587-b5b2-67aabffe2e1c"
      },
      "execution_count": 13,
      "outputs": [
        {
          "output_type": "execute_result",
          "data": {
            "text/plain": [
              "filial\n",
              "A    Masculino\n",
              "B    Masculino\n",
              "C     Feminino\n",
              "Name: genero, dtype: object"
            ],
            "text/html": [
              "<div>\n",
              "<style scoped>\n",
              "    .dataframe tbody tr th:only-of-type {\n",
              "        vertical-align: middle;\n",
              "    }\n",
              "\n",
              "    .dataframe tbody tr th {\n",
              "        vertical-align: top;\n",
              "    }\n",
              "\n",
              "    .dataframe thead th {\n",
              "        text-align: right;\n",
              "    }\n",
              "</style>\n",
              "<table border=\"1\" class=\"dataframe\">\n",
              "  <thead>\n",
              "    <tr style=\"text-align: right;\">\n",
              "      <th></th>\n",
              "      <th>genero</th>\n",
              "    </tr>\n",
              "    <tr>\n",
              "      <th>filial</th>\n",
              "      <th></th>\n",
              "    </tr>\n",
              "  </thead>\n",
              "  <tbody>\n",
              "    <tr>\n",
              "      <th>A</th>\n",
              "      <td>Masculino</td>\n",
              "    </tr>\n",
              "    <tr>\n",
              "      <th>B</th>\n",
              "      <td>Masculino</td>\n",
              "    </tr>\n",
              "    <tr>\n",
              "      <th>C</th>\n",
              "      <td>Feminino</td>\n",
              "    </tr>\n",
              "  </tbody>\n",
              "</table>\n",
              "</div><br><label><b>dtype:</b> object</label>"
            ]
          },
          "metadata": {},
          "execution_count": 13
        }
      ]
    },
    {
      "cell_type": "code",
      "source": [
        "#Em quais cidades temos filiais?\n",
        "\n",
        "df['cidade'].unique()"
      ],
      "metadata": {
        "colab": {
          "base_uri": "https://localhost:8080/"
        },
        "id": "uFtY1ZPB3j8m",
        "outputId": "824f0a6d-c1ff-4ca1-9e8e-7db646bedd4a"
      },
      "execution_count": 14,
      "outputs": [
        {
          "output_type": "execute_result",
          "data": {
            "text/plain": [
              "array(['Santo André', 'São Caetano', 'São Bernardo do Campo'],\n",
              "      dtype=object)"
            ]
          },
          "metadata": {},
          "execution_count": 14
        }
      ]
    },
    {
      "cell_type": "code",
      "source": [
        "#Qual é o preço unitário médio de cada tipo de produto?\n",
        "\n",
        "df.groupby('tipo_produto')['preco_unitario'].mean()"
      ],
      "metadata": {
        "colab": {
          "base_uri": "https://localhost:8080/",
          "height": 303
        },
        "id": "calKjCyK3zCI",
        "outputId": "fb06df0e-73bf-44f1-f091-d93f4ffb883a"
      },
      "execution_count": 15,
      "outputs": [
        {
          "output_type": "execute_result",
          "data": {
            "text/plain": [
              "tipo_produto\n",
              "Alimentos e Bebidas    56.008851\n",
              "Casa                   55.316937\n",
              "Eletrônicos            53.551588\n",
              "Esportes e Viagem      56.993253\n",
              "Moda                   57.153652\n",
              "Saúde e Beleza         54.854474\n",
              "Name: preco_unitario, dtype: float64"
            ],
            "text/html": [
              "<div>\n",
              "<style scoped>\n",
              "    .dataframe tbody tr th:only-of-type {\n",
              "        vertical-align: middle;\n",
              "    }\n",
              "\n",
              "    .dataframe tbody tr th {\n",
              "        vertical-align: top;\n",
              "    }\n",
              "\n",
              "    .dataframe thead th {\n",
              "        text-align: right;\n",
              "    }\n",
              "</style>\n",
              "<table border=\"1\" class=\"dataframe\">\n",
              "  <thead>\n",
              "    <tr style=\"text-align: right;\">\n",
              "      <th></th>\n",
              "      <th>preco_unitario</th>\n",
              "    </tr>\n",
              "    <tr>\n",
              "      <th>tipo_produto</th>\n",
              "      <th></th>\n",
              "    </tr>\n",
              "  </thead>\n",
              "  <tbody>\n",
              "    <tr>\n",
              "      <th>Alimentos e Bebidas</th>\n",
              "      <td>56.008851</td>\n",
              "    </tr>\n",
              "    <tr>\n",
              "      <th>Casa</th>\n",
              "      <td>55.316937</td>\n",
              "    </tr>\n",
              "    <tr>\n",
              "      <th>Eletrônicos</th>\n",
              "      <td>53.551588</td>\n",
              "    </tr>\n",
              "    <tr>\n",
              "      <th>Esportes e Viagem</th>\n",
              "      <td>56.993253</td>\n",
              "    </tr>\n",
              "    <tr>\n",
              "      <th>Moda</th>\n",
              "      <td>57.153652</td>\n",
              "    </tr>\n",
              "    <tr>\n",
              "      <th>Saúde e Beleza</th>\n",
              "      <td>54.854474</td>\n",
              "    </tr>\n",
              "  </tbody>\n",
              "</table>\n",
              "</div><br><label><b>dtype:</b> float64</label>"
            ]
          },
          "metadata": {},
          "execution_count": 15
        }
      ]
    },
    {
      "cell_type": "code",
      "source": [
        "#Qual é a média de valor de compra por tipo de cliente?\n",
        "\n",
        "df.groupby('tipo_cliente')['total'].mean()"
      ],
      "metadata": {
        "colab": {
          "base_uri": "https://localhost:8080/",
          "height": 178
        },
        "id": "GUMJi-2b3-pw",
        "outputId": "c91361ff-1722-4751-aa98-3acf01427b6b"
      },
      "execution_count": 16,
      "outputs": [
        {
          "output_type": "execute_result",
          "data": {
            "text/plain": [
              "tipo_cliente\n",
              "Membro    327.791305\n",
              "Normal    318.122856\n",
              "Name: total, dtype: float64"
            ],
            "text/html": [
              "<div>\n",
              "<style scoped>\n",
              "    .dataframe tbody tr th:only-of-type {\n",
              "        vertical-align: middle;\n",
              "    }\n",
              "\n",
              "    .dataframe tbody tr th {\n",
              "        vertical-align: top;\n",
              "    }\n",
              "\n",
              "    .dataframe thead th {\n",
              "        text-align: right;\n",
              "    }\n",
              "</style>\n",
              "<table border=\"1\" class=\"dataframe\">\n",
              "  <thead>\n",
              "    <tr style=\"text-align: right;\">\n",
              "      <th></th>\n",
              "      <th>total</th>\n",
              "    </tr>\n",
              "    <tr>\n",
              "      <th>tipo_cliente</th>\n",
              "      <th></th>\n",
              "    </tr>\n",
              "  </thead>\n",
              "  <tbody>\n",
              "    <tr>\n",
              "      <th>Membro</th>\n",
              "      <td>327.791305</td>\n",
              "    </tr>\n",
              "    <tr>\n",
              "      <th>Normal</th>\n",
              "      <td>318.122856</td>\n",
              "    </tr>\n",
              "  </tbody>\n",
              "</table>\n",
              "</div><br><label><b>dtype:</b> float64</label>"
            ]
          },
          "metadata": {},
          "execution_count": 16
        }
      ]
    },
    {
      "cell_type": "code",
      "source": [
        "#Qual é a filial com maior faturamento?\n",
        "\n",
        "df.groupby('filial')['total'].sum().idxmax()"
      ],
      "metadata": {
        "colab": {
          "base_uri": "https://localhost:8080/",
          "height": 35
        },
        "id": "4rw_gdrl4SWi",
        "outputId": "b127478a-5a1c-4d71-b587-ea3f32861f68"
      },
      "execution_count": 17,
      "outputs": [
        {
          "output_type": "execute_result",
          "data": {
            "text/plain": [
              "'C'"
            ],
            "application/vnd.google.colaboratory.intrinsic+json": {
              "type": "string"
            }
          },
          "metadata": {},
          "execution_count": 17
        }
      ]
    },
    {
      "cell_type": "code",
      "source": [
        "#Para melhorar a síntese da resposta\n",
        "\n",
        "query_engine = PandasQueryEngine(df=df, verbose=True, synthesize_response = True)"
      ],
      "metadata": {
        "id": "qJedTTlfKqnE"
      },
      "execution_count": 21,
      "outputs": []
    },
    {
      "cell_type": "code",
      "source": [
        "response = query_engine.query('Qual é a avaliação média de cada filial?')\n",
        "print(str(response))"
      ],
      "metadata": {
        "colab": {
          "base_uri": "https://localhost:8080/"
        },
        "id": "tX9ZQRwRw9tN",
        "outputId": "4909ca19-aab7-4b64-a9d7-541e747bf5bb"
      },
      "execution_count": 23,
      "outputs": [
        {
          "output_type": "stream",
          "name": "stdout",
          "text": [
            "> Pandas Instructions:\n",
            "```\n",
            "df.groupby('filial')['avaliacao'].mean()\n",
            "```\n",
            "> Pandas Output: filial\n",
            "A    7.027059\n",
            "B    6.818072\n",
            "C    7.072866\n",
            "Name: avaliacao, dtype: float64\n",
            "A avaliação média de cada filial é a seguinte: \n",
            "- Filial A: 7.03\n",
            "- Filial B: 6.82\n",
            "- Filial C: 7.07\n",
            "\n",
            "Esses valores indicam a média das avaliações recebidas por cada filial, fornecendo uma visão geral do desempenho de cada uma.\n"
          ]
        }
      ]
    },
    {
      "cell_type": "code",
      "source": [
        "response.response"
      ],
      "metadata": {
        "colab": {
          "base_uri": "https://localhost:8080/",
          "height": 70
        },
        "id": "_2c9_jPmy9rS",
        "outputId": "532dd244-be7e-44c1-ec40-72730d4bb1e1"
      },
      "execution_count": 24,
      "outputs": [
        {
          "output_type": "execute_result",
          "data": {
            "text/plain": [
              "'A avaliação média de cada filial é a seguinte: \\n- Filial A: 7.03\\n- Filial B: 6.82\\n- Filial C: 7.07\\n\\nEsses valores indicam a média das avaliações recebidas por cada filial, fornecendo uma visão geral do desempenho de cada uma.'"
            ],
            "application/vnd.google.colaboratory.intrinsic+json": {
              "type": "string"
            }
          },
          "metadata": {},
          "execution_count": 24
        }
      ]
    },
    {
      "cell_type": "code",
      "source": [
        "import textwrap\n",
        "def formatar_texto(response):\n",
        "  texto = response.response\n",
        "  texto_formatado = textwrap.fill(texto, width=100)\n",
        "  print(texto_formatado)"
      ],
      "metadata": {
        "id": "nI1oueREyH16"
      },
      "execution_count": 25,
      "outputs": []
    },
    {
      "cell_type": "code",
      "source": [
        "formatar_texto(response)"
      ],
      "metadata": {
        "colab": {
          "base_uri": "https://localhost:8080/"
        },
        "id": "6PCwsEjezpL6",
        "outputId": "877d983f-0efb-48c4-ac6f-eca74418509d"
      },
      "execution_count": 26,
      "outputs": [
        {
          "output_type": "stream",
          "name": "stdout",
          "text": [
            "A avaliação média de cada filial é a seguinte:  - Filial A: 7.03 - Filial B: 6.82 - Filial C: 7.07\n",
            "Esses valores indicam a média das avaliações recebidas por cada filial, fornecendo uma visão geral\n",
            "do desempenho de cada uma.\n"
          ]
        }
      ]
    }
  ]
}